{
  "nbformat": 4,
  "nbformat_minor": 0,
  "metadata": {
    "colab": {
      "provenance": []
    },
    "kernelspec": {
      "name": "python3",
      "display_name": "Python 3"
    },
    "language_info": {
      "name": "python"
    }
  },
  "cells": [
    {
      "cell_type": "markdown",
      "source": [
        "**Dataset 2**"
      ],
      "metadata": {
        "id": "YwhDy9jPlz0K"
      }
    },
    {
      "cell_type": "code",
      "source": [
        "df2 = pd.read_csv('/content/foodtruck.txt')\n",
        "df2"
      ],
      "metadata": {
        "colab": {
          "base_uri": "https://localhost:8080/",
          "height": 424
        },
        "id": "AGTcDCXka2Mi",
        "outputId": "847c2fca-2508-4fd1-ba5c-0ddb765b3ba6"
      },
      "execution_count": null,
      "outputs": [
        {
          "output_type": "execute_result",
          "data": {
            "text/plain": [
              "    Population    Profit\n",
              "0       6.1101  17.59200\n",
              "1       5.5277   9.13020\n",
              "2       8.5186  13.66200\n",
              "3       7.0032  11.85400\n",
              "4       5.8598   6.82330\n",
              "..         ...       ...\n",
              "92      5.8707   7.20290\n",
              "93      5.3054   1.98690\n",
              "94      8.2934   0.14454\n",
              "95     13.3940   9.05510\n",
              "96      5.4369   0.61705\n",
              "\n",
              "[97 rows x 2 columns]"
            ],
            "text/html": [
              "\n",
              "  <div id=\"df-1df88bab-32c1-41ad-adf7-a58c19505705\">\n",
              "    <div class=\"colab-df-container\">\n",
              "      <div>\n",
              "<style scoped>\n",
              "    .dataframe tbody tr th:only-of-type {\n",
              "        vertical-align: middle;\n",
              "    }\n",
              "\n",
              "    .dataframe tbody tr th {\n",
              "        vertical-align: top;\n",
              "    }\n",
              "\n",
              "    .dataframe thead th {\n",
              "        text-align: right;\n",
              "    }\n",
              "</style>\n",
              "<table border=\"1\" class=\"dataframe\">\n",
              "  <thead>\n",
              "    <tr style=\"text-align: right;\">\n",
              "      <th></th>\n",
              "      <th>Population</th>\n",
              "      <th>Profit</th>\n",
              "    </tr>\n",
              "  </thead>\n",
              "  <tbody>\n",
              "    <tr>\n",
              "      <th>0</th>\n",
              "      <td>6.1101</td>\n",
              "      <td>17.59200</td>\n",
              "    </tr>\n",
              "    <tr>\n",
              "      <th>1</th>\n",
              "      <td>5.5277</td>\n",
              "      <td>9.13020</td>\n",
              "    </tr>\n",
              "    <tr>\n",
              "      <th>2</th>\n",
              "      <td>8.5186</td>\n",
              "      <td>13.66200</td>\n",
              "    </tr>\n",
              "    <tr>\n",
              "      <th>3</th>\n",
              "      <td>7.0032</td>\n",
              "      <td>11.85400</td>\n",
              "    </tr>\n",
              "    <tr>\n",
              "      <th>4</th>\n",
              "      <td>5.8598</td>\n",
              "      <td>6.82330</td>\n",
              "    </tr>\n",
              "    <tr>\n",
              "      <th>...</th>\n",
              "      <td>...</td>\n",
              "      <td>...</td>\n",
              "    </tr>\n",
              "    <tr>\n",
              "      <th>92</th>\n",
              "      <td>5.8707</td>\n",
              "      <td>7.20290</td>\n",
              "    </tr>\n",
              "    <tr>\n",
              "      <th>93</th>\n",
              "      <td>5.3054</td>\n",
              "      <td>1.98690</td>\n",
              "    </tr>\n",
              "    <tr>\n",
              "      <th>94</th>\n",
              "      <td>8.2934</td>\n",
              "      <td>0.14454</td>\n",
              "    </tr>\n",
              "    <tr>\n",
              "      <th>95</th>\n",
              "      <td>13.3940</td>\n",
              "      <td>9.05510</td>\n",
              "    </tr>\n",
              "    <tr>\n",
              "      <th>96</th>\n",
              "      <td>5.4369</td>\n",
              "      <td>0.61705</td>\n",
              "    </tr>\n",
              "  </tbody>\n",
              "</table>\n",
              "<p>97 rows × 2 columns</p>\n",
              "</div>\n",
              "      <button class=\"colab-df-convert\" onclick=\"convertToInteractive('df-1df88bab-32c1-41ad-adf7-a58c19505705')\"\n",
              "              title=\"Convert this dataframe to an interactive table.\"\n",
              "              style=\"display:none;\">\n",
              "        \n",
              "  <svg xmlns=\"http://www.w3.org/2000/svg\" height=\"24px\"viewBox=\"0 0 24 24\"\n",
              "       width=\"24px\">\n",
              "    <path d=\"M0 0h24v24H0V0z\" fill=\"none\"/>\n",
              "    <path d=\"M18.56 5.44l.94 2.06.94-2.06 2.06-.94-2.06-.94-.94-2.06-.94 2.06-2.06.94zm-11 1L8.5 8.5l.94-2.06 2.06-.94-2.06-.94L8.5 2.5l-.94 2.06-2.06.94zm10 10l.94 2.06.94-2.06 2.06-.94-2.06-.94-.94-2.06-.94 2.06-2.06.94z\"/><path d=\"M17.41 7.96l-1.37-1.37c-.4-.4-.92-.59-1.43-.59-.52 0-1.04.2-1.43.59L10.3 9.45l-7.72 7.72c-.78.78-.78 2.05 0 2.83L4 21.41c.39.39.9.59 1.41.59.51 0 1.02-.2 1.41-.59l7.78-7.78 2.81-2.81c.8-.78.8-2.07 0-2.86zM5.41 20L4 18.59l7.72-7.72 1.47 1.35L5.41 20z\"/>\n",
              "  </svg>\n",
              "      </button>\n",
              "      \n",
              "  <style>\n",
              "    .colab-df-container {\n",
              "      display:flex;\n",
              "      flex-wrap:wrap;\n",
              "      gap: 12px;\n",
              "    }\n",
              "\n",
              "    .colab-df-convert {\n",
              "      background-color: #E8F0FE;\n",
              "      border: none;\n",
              "      border-radius: 50%;\n",
              "      cursor: pointer;\n",
              "      display: none;\n",
              "      fill: #1967D2;\n",
              "      height: 32px;\n",
              "      padding: 0 0 0 0;\n",
              "      width: 32px;\n",
              "    }\n",
              "\n",
              "    .colab-df-convert:hover {\n",
              "      background-color: #E2EBFA;\n",
              "      box-shadow: 0px 1px 2px rgba(60, 64, 67, 0.3), 0px 1px 3px 1px rgba(60, 64, 67, 0.15);\n",
              "      fill: #174EA6;\n",
              "    }\n",
              "\n",
              "    [theme=dark] .colab-df-convert {\n",
              "      background-color: #3B4455;\n",
              "      fill: #D2E3FC;\n",
              "    }\n",
              "\n",
              "    [theme=dark] .colab-df-convert:hover {\n",
              "      background-color: #434B5C;\n",
              "      box-shadow: 0px 1px 3px 1px rgba(0, 0, 0, 0.15);\n",
              "      filter: drop-shadow(0px 1px 2px rgba(0, 0, 0, 0.3));\n",
              "      fill: #FFFFFF;\n",
              "    }\n",
              "  </style>\n",
              "\n",
              "      <script>\n",
              "        const buttonEl =\n",
              "          document.querySelector('#df-1df88bab-32c1-41ad-adf7-a58c19505705 button.colab-df-convert');\n",
              "        buttonEl.style.display =\n",
              "          google.colab.kernel.accessAllowed ? 'block' : 'none';\n",
              "\n",
              "        async function convertToInteractive(key) {\n",
              "          const element = document.querySelector('#df-1df88bab-32c1-41ad-adf7-a58c19505705');\n",
              "          const dataTable =\n",
              "            await google.colab.kernel.invokeFunction('convertToInteractive',\n",
              "                                                     [key], {});\n",
              "          if (!dataTable) return;\n",
              "\n",
              "          const docLinkHtml = 'Like what you see? Visit the ' +\n",
              "            '<a target=\"_blank\" href=https://colab.research.google.com/notebooks/data_table.ipynb>data table notebook</a>'\n",
              "            + ' to learn more about interactive tables.';\n",
              "          element.innerHTML = '';\n",
              "          dataTable['output_type'] = 'display_data';\n",
              "          await google.colab.output.renderOutput(dataTable, element);\n",
              "          const docLink = document.createElement('div');\n",
              "          docLink.innerHTML = docLinkHtml;\n",
              "          element.appendChild(docLink);\n",
              "        }\n",
              "      </script>\n",
              "    </div>\n",
              "  </div>\n",
              "  "
            ]
          },
          "metadata": {},
          "execution_count": 21
        }
      ]
    },
    {
      "cell_type": "code",
      "source": [
        "# Drawing a sample of size 20 from above created dataframe using systematic sampling\n",
        "# Let starting point = 5 and step size = 4\n",
        "\n",
        "sample_pop = []\n",
        "sample_profit = []\n",
        "\n",
        "j = 4\n",
        "for i in range(20):\n",
        "    sample_pop.append(df2['Population'][j])\n",
        "    sample_profit.append(df2['Profit'][j])\n",
        "    j = j + 4\n",
        "\n",
        "sample_df2 = pd.DataFrame({'sample_population': sample_pop, 'sample_profit': sample_profit})\n",
        "print(sample_df2)"
      ],
      "metadata": {
        "colab": {
          "base_uri": "https://localhost:8080/"
        },
        "id": "CHSRAhwckKcy",
        "outputId": "ec66b8d1-2509-4c36-91d9-2962deb0aacf"
      },
      "execution_count": null,
      "outputs": [
        {
          "output_type": "stream",
          "name": "stdout",
          "text": [
            "    sample_population  sample_profit\n",
            "0              5.8598        6.82330\n",
            "1              6.4862        6.59870\n",
            "2              5.7340        3.15510\n",
            "3              6.3654        5.30480\n",
            "4              6.1891        3.13860\n",
            "5              5.5649        3.08250\n",
            "6             13.1760       14.69200\n",
            "7              9.2482       12.13400\n",
            "8              8.0959        4.11640\n",
            "9              5.4069        0.55657\n",
            "10             7.8247        6.73180\n",
            "11            11.7000        8.00430\n",
            "12             7.4239        4.28850\n",
            "13             6.2742        2.47560\n",
            "14             8.8254        5.16940\n",
            "15            18.9590       17.05400\n",
            "16             5.4994        1.01730\n",
            "17             6.0062        1.27840\n",
            "18             7.5386        3.88450\n",
            "19             5.7292        0.47953\n"
          ]
        }
      ]
    },
    {
      "cell_type": "code",
      "source": [
        "zero2 = []\n",
        "for i in range(20):\n",
        "    zero2.append(0)\n",
        "th2 = zero2"
      ],
      "metadata": {
        "id": "l_Ax5pwSmn8P"
      },
      "execution_count": null,
      "outputs": []
    },
    {
      "cell_type": "code",
      "source": [
        "X2 = sample_df2['sample_population']\n",
        "Y2 = sample_df2['sample_profit']\n",
        "\n",
        "gd2 = gradient_descent(X2, Y2, th2, 1, 100)\n",
        "print(gd2)"
      ],
      "metadata": {
        "colab": {
          "base_uri": "https://localhost:8080/"
        },
        "id": "7yCZzvCrjRBg",
        "outputId": "278efa81-a15a-4565-c61b-bc9945bd9db9"
      },
      "execution_count": null,
      "outputs": [
        {
          "output_type": "stream",
          "name": "stdout",
          "text": [
            "(-56.065147178450005, [24.933691594644998])\n"
          ]
        }
      ]
    },
    {
      "cell_type": "code",
      "source": [
        "df2.isnull().sum()"
      ],
      "metadata": {
        "colab": {
          "base_uri": "https://localhost:8080/"
        },
        "id": "5IkxHtTFbkkW",
        "outputId": "33eec3b5-7c39-4d3e-bb27-a2889d6bb4f6"
      },
      "execution_count": null,
      "outputs": [
        {
          "output_type": "execute_result",
          "data": {
            "text/plain": [
              "Population    0\n",
              "Profit        0\n",
              "dtype: int64"
            ]
          },
          "metadata": {},
          "execution_count": 25
        }
      ]
    },
    {
      "cell_type": "code",
      "source": [
        "# 1 input variable (X) = Population\n",
        "# Output variable (Y) = Profit\n",
        "\n",
        "X = df2['Population']\n",
        "Y = df2['Profit']"
      ],
      "metadata": {
        "id": "3hKcyu2jiF8i"
      },
      "execution_count": null,
      "outputs": []
    },
    {
      "cell_type": "code",
      "source": [
        "plt.scatter(X, Y)\n",
        "plt.xlabel(\"Population\")\n",
        "plt.ylabel(\"Profit\")"
      ],
      "metadata": {
        "colab": {
          "base_uri": "https://localhost:8080/",
          "height": 297
        },
        "id": "94auRKx2NZDJ",
        "outputId": "f1c1b5cf-1898-408c-a157-3287a6dd84b1"
      },
      "execution_count": null,
      "outputs": [
        {
          "output_type": "execute_result",
          "data": {
            "text/plain": [
              "Text(0, 0.5, 'Profit')"
            ]
          },
          "metadata": {},
          "execution_count": 27
        },
        {
          "output_type": "display_data",
          "data": {
            "text/plain": [
              "<Figure size 432x288 with 1 Axes>"
            ],
            "image/png": "[encoded data removed]"
          },
          "metadata": {
            "needs_background": "light"
          }
        }
      ]
    },
    {
      "cell_type": "code",
      "source": [
        "from sklearn.model_selection import train_test_split"
      ],
      "metadata": {
        "id": "cu0ybDi7N_8w"
      },
      "execution_count": null,
      "outputs": []
    },
    {
      "cell_type": "code",
      "source": [
        "X_train, X_test, Y_train, Y_test = train_test_split(X, Y, test_size = 0.4, random_state = 11)"
      ],
      "metadata": {
        "id": "Yio5njFpOYbh"
      },
      "execution_count": null,
      "outputs": []
    },
    {
      "cell_type": "code",
      "source": [
        "X_train"
      ],
      "metadata": {
        "colab": {
          "base_uri": "https://localhost:8080/"
        },
        "id": "VLR9xY_zPCgW",
        "outputId": "4e30f310-adb8-4a79-b9b8-d9ab864f553d"
      },
      "execution_count": null,
      "outputs": [
        {
          "output_type": "execute_result",
          "data": {
            "text/plain": [
              "19     7.0708\n",
              "62    21.2790\n",
              "83     9.7687\n",
              "46     5.0702\n",
              "92     5.8707\n",
              "77     5.0365\n",
              "69    20.3410\n",
              "8      6.4862\n",
              "3      7.0032\n",
              "56     6.2742\n",
              "78    10.2740\n",
              "35     7.9334\n",
              "50     7.5402\n",
              "61     5.1793\n",
              "5      8.3829\n",
              "31     6.5894\n",
              "65     7.2182\n",
              "84     6.5159\n",
              "40     5.4069\n",
              "0      6.1101\n",
              "15     5.3794\n",
              "93     5.3054\n",
              "7      8.5781\n",
              "14     5.6407\n",
              "53     7.6031\n",
              "44     7.8247\n",
              "68     5.4994\n",
              "57     5.6397\n",
              "10     5.7107\n",
              "27    10.9570\n",
              "23     6.3261\n",
              "64    18.9590\n",
              "43     5.7737\n",
              "70    10.1360\n",
              "67    10.2360\n",
              "17     5.1301\n",
              "85     8.5172\n",
              "37     5.6063\n",
              "74     5.0269\n",
              "1      5.5277\n",
              "12     5.7340\n",
              "34     8.2111\n",
              "4      5.8598\n",
              "45     7.0931\n",
              "32     9.2482\n",
              "48    11.7000\n",
              "24     5.5649\n",
              "82     6.3557\n",
              "71     7.3345\n",
              "33     5.8918\n",
              "76     7.5386\n",
              "13     8.4084\n",
              "55     6.3589\n",
              "81     5.1884\n",
              "91     7.6366\n",
              "80     5.7292\n",
              "63    14.9080\n",
              "25    18.9450\n",
              "Name: Population, dtype: float64"
            ]
          },
          "metadata": {},
          "execution_count": 30
        }
      ]
    },
    {
      "cell_type": "code",
      "source": [
        "print(type(X_train))"
      ],
      "metadata": {
        "colab": {
          "base_uri": "https://localhost:8080/"
        },
        "id": "Hs0k6ar7P6NJ",
        "outputId": "7446101c-e3ff-43a0-cbaa-07deac19feab"
      },
      "execution_count": null,
      "outputs": [
        {
          "output_type": "stream",
          "name": "stdout",
          "text": [
            "<class 'pandas.core.series.Series'>\n"
          ]
        }
      ]
    },
    {
      "cell_type": "code",
      "source": [
        "# X_train, X_test are 1D but sklearn libraries, the ML algorithms take 2D data\n",
        "# Therefore, changing the dimension of X_train and X_test from 1D to 2D\n",
        "\n",
        "X_train = np.array(X_train).reshape(-1, 1)\n",
        "X_train"
      ],
      "metadata": {
        "colab": {
          "base_uri": "https://localhost:8080/"
        },
        "id": "RnLkH9N1PF2_",
        "outputId": "3630f898-98c8-4487-df63-ccc23b73be46"
      },
      "execution_count": null,
      "outputs": [
        {
          "output_type": "execute_result",
          "data": {
            "text/plain": [
              "array([[ 7.0708],\n",
              "       [21.279 ],\n",
              "       [ 9.7687],\n",
              "       [ 5.0702],\n",
              "       [ 5.8707],\n",
              "       [ 5.0365],\n",
              "       [20.341 ],\n",
              "       [ 6.4862],\n",
              "       [ 7.0032],\n",
              "       [ 6.2742],\n",
              "       [10.274 ],\n",
              "       [ 7.9334],\n",
              "       [ 7.5402],\n",
              "       [ 5.1793],\n",
              "       [ 8.3829],\n",
              "       [ 6.5894],\n",
              "       [ 7.2182],\n",
              "       [ 6.5159],\n",
              "       [ 5.4069],\n",
              "       [ 6.1101],\n",
              "       [ 5.3794],\n",
              "       [ 5.3054],\n",
              "       [ 8.5781],\n",
              "       [ 5.6407],\n",
              "       [ 7.6031],\n",
              "       [ 7.8247],\n",
              "       [ 5.4994],\n",
              "       [ 5.6397],\n",
              "       [ 5.7107],\n",
              "       [10.957 ],\n",
              "       [ 6.3261],\n",
              "       [18.959 ],\n",
              "       [ 5.7737],\n",
              "       [10.136 ],\n",
              "       [10.236 ],\n",
              "       [ 5.1301],\n",
              "       [ 8.5172],\n",
              "       [ 5.6063],\n",
              "       [ 5.0269],\n",
              "       [ 5.5277],\n",
              "       [ 5.734 ],\n",
              "       [ 8.2111],\n",
              "       [ 5.8598],\n",
              "       [ 7.0931],\n",
              "       [ 9.2482],\n",
              "       [11.7   ],\n",
              "       [ 5.5649],\n",
              "       [ 6.3557],\n",
              "       [ 7.3345],\n",
              "       [ 5.8918],\n",
              "       [ 7.5386],\n",
              "       [ 8.4084],\n",
              "       [ 6.3589],\n",
              "       [ 5.1884],\n",
              "       [ 7.6366],\n",
              "       [ 5.7292],\n",
              "       [14.908 ],\n",
              "       [18.945 ]])"
            ]
          },
          "metadata": {},
          "execution_count": 32
        }
      ]
    },
    {
      "cell_type": "code",
      "source": [
        "X_test = np.array(X_test).reshape(-1, 1)\n",
        "X_test"
      ],
      "metadata": {
        "id": "l8wJu7CQSma-"
      },
      "execution_count": null,
      "outputs": []
    },
    {
      "cell_type": "code",
      "source": [
        "from sklearn.linear_model import LinearRegression"
      ],
      "metadata": {
        "id": "-BQhAh98T4kk"
      },
      "execution_count": null,
      "outputs": []
    },
    {
      "cell_type": "code",
      "source": [
        "lr = LinearRegression()"
      ],
      "metadata": {
        "id": "YpznCgSZUIfb"
      },
      "execution_count": null,
      "outputs": []
    },
    {
      "cell_type": "code",
      "source": [
        "lr.fit(X_train, Y_train)"
      ],
      "metadata": {
        "colab": {
          "base_uri": "https://localhost:8080/",
          "height": 75
        },
        "id": "NlhVnWHjUlv5",
        "outputId": "6c35dd84-a39e-4f59-afc8-163d5d4cb43d"
      },
      "execution_count": null,
      "outputs": [
        {
          "output_type": "execute_result",
          "data": {
            "text/plain": [
              "LinearRegression()"
            ],
            "text/html": [
              "<style>#sk-container-id-1 {color: black;background-color: white;}#sk-container-id-1 pre{padding: 0;}#sk-container-id-1 div.sk-toggleable {background-color: white;}#sk-container-id-1 label.sk-toggleable__label {cursor: pointer;display: block;width: 100%;margin-bottom: 0;padding: 0.3em;box-sizing: border-box;text-align: center;}#sk-container-id-1 label.sk-toggleable__label-arrow:before {content: \"▸\";float: left;margin-right: 0.25em;color: #696969;}#sk-container-id-1 label.sk-toggleable__label-arrow:hover:before {color: black;}#sk-container-id-1 div.sk-estimator:hover label.sk-toggleable__label-arrow:before {color: black;}#sk-container-id-1 div.sk-toggleable__content {max-height: 0;max-width: 0;overflow: hidden;text-align: left;background-color: #f0f8ff;}#sk-container-id-1 div.sk-toggleable__content pre {margin: 0.2em;color: black;border-radius: 0.25em;background-color: #f0f8ff;}#sk-container-id-1 input.sk-toggleable__control:checked~div.sk-toggleable__content {max-height: 200px;max-width: 100%;overflow: auto;}#sk-container-id-1 input.sk-toggleable__control:checked~label.sk-toggleable__label-arrow:before {content: \"▾\";}#sk-container-id-1 div.sk-estimator input.sk-toggleable__control:checked~label.sk-toggleable__label {background-color: #d4ebff;}#sk-container-id-1 div.sk-label input.sk-toggleable__control:checked~label.sk-toggleable__label {background-color: #d4ebff;}#sk-container-id-1 input.sk-hidden--visually {border: 0;clip: rect(1px 1px 1px 1px);clip: rect(1px, 1px, 1px, 1px);height: 1px;margin: -1px;overflow: hidden;padding: 0;position: absolute;width: 1px;}#sk-container-id-1 div.sk-estimator {font-family: monospace;background-color: #f0f8ff;border: 1px dotted black;border-radius: 0.25em;box-sizing: border-box;margin-bottom: 0.5em;}#sk-container-id-1 div.sk-estimator:hover {background-color: #d4ebff;}#sk-container-id-1 div.sk-parallel-item::after {content: \"\";width: 100%;border-bottom: 1px solid gray;flex-grow: 1;}#sk-container-id-1 div.sk-label:hover label.sk-toggleable__label {background-color: #d4ebff;}#sk-container-id-1 div.sk-serial::before {content: \"\";position: absolute;border-left: 1px solid gray;box-sizing: border-box;top: 0;bottom: 0;left: 50%;z-index: 0;}#sk-container-id-1 div.sk-serial {display: flex;flex-direction: column;align-items: center;background-color: white;padding-right: 0.2em;padding-left: 0.2em;position: relative;}#sk-container-id-1 div.sk-item {position: relative;z-index: 1;}#sk-container-id-1 div.sk-parallel {display: flex;align-items: stretch;justify-content: center;background-color: white;position: relative;}#sk-container-id-1 div.sk-item::before, #sk-container-id-1 div.sk-parallel-item::before {content: \"\";position: absolute;border-left: 1px solid gray;box-sizing: border-box;top: 0;bottom: 0;left: 50%;z-index: -1;}#sk-container-id-1 div.sk-parallel-item {display: flex;flex-direction: column;z-index: 1;position: relative;background-color: white;}#sk-container-id-1 div.sk-parallel-item:first-child::after {align-self: flex-end;width: 50%;}#sk-container-id-1 div.sk-parallel-item:last-child::after {align-self: flex-start;width: 50%;}#sk-container-id-1 div.sk-parallel-item:only-child::after {width: 0;}#sk-container-id-1 div.sk-dashed-wrapped {border: 1px dashed gray;margin: 0 0.4em 0.5em 0.4em;box-sizing: border-box;padding-bottom: 0.4em;background-color: white;}#sk-container-id-1 div.sk-label label {font-family: monospace;font-weight: bold;display: inline-block;line-height: 1.2em;}#sk-container-id-1 div.sk-label-container {text-align: center;}#sk-container-id-1 div.sk-container {/* jupyter's `normalize.less` sets `[hidden] { display: none; }` but bootstrap.min.css set `[hidden] { display: none !important; }` so we also need the `!important` here to be able to override the default hidden behavior on the sphinx rendered scikit-learn.org. See: https://github.com/scikit-learn/scikit-learn/issues/21755 */display: inline-block !important;position: relative;}#sk-container-id-1 div.sk-text-repr-fallback {display: none;}</style><div id=\"sk-container-id-1\" class=\"sk-top-container\"><div class=\"sk-text-repr-fallback\"><pre>LinearRegression()</pre><b>In a Jupyter environment, please rerun this cell to show the HTML representation or trust the notebook. <br />On GitHub, the HTML representation is unable to render, please try loading this page with nbviewer.org.</b></div><div class=\"sk-container\" hidden><div class=\"sk-item\"><div class=\"sk-estimator sk-toggleable\"><input class=\"sk-toggleable__control sk-hidden--visually\" id=\"sk-estimator-id-1\" type=\"checkbox\" checked><label for=\"sk-estimator-id-1\" class=\"sk-toggleable__label sk-toggleable__label-arrow\">LinearRegression</label><div class=\"sk-toggleable__content\"><pre>LinearRegression()</pre></div></div></div></div></div>"
            ]
          },
          "metadata": {},
          "execution_count": 36
        }
      ]
    },
    {
      "cell_type": "code",
      "source": [
        "m = lr.coef_\n",
        "m"
      ],
      "metadata": {
        "colab": {
          "base_uri": "https://localhost:8080/"
        },
        "id": "7AIVWcuWVlq4",
        "outputId": "e9791b1b-2eed-41fd-a820-36db0afd522c"
      },
      "execution_count": null,
      "outputs": [
        {
          "output_type": "execute_result",
          "data": {
            "text/plain": [
              "array([1.10851826])"
            ]
          },
          "metadata": {},
          "execution_count": 37
        }
      ]
    },
    {
      "cell_type": "code",
      "source": [
        "c = lr.intercept_\n",
        "c"
      ],
      "metadata": {
        "colab": {
          "base_uri": "https://localhost:8080/"
        },
        "id": "bO8yS84TVwvL",
        "outputId": "7d1fcb17-822b-4d92-cee1-06f5b4f07a79"
      },
      "execution_count": null,
      "outputs": [
        {
          "output_type": "execute_result",
          "data": {
            "text/plain": [
              "-2.7907409104832874"
            ]
          },
          "metadata": {},
          "execution_count": 38
        }
      ]
    },
    {
      "cell_type": "code",
      "source": [
        "Y_pred_train = lr.predict(X_train)\n",
        "Y_pred_train"
      ],
      "metadata": {
        "colab": {
          "base_uri": "https://localhost:8080/"
        },
        "id": "m4Wza32rWMrw",
        "outputId": "69f6b5b0-1df1-476f-d7a6-f45e81290bd3"
      },
      "execution_count": null,
      "outputs": [
        {
          "output_type": "execute_result",
          "data": {
            "text/plain": [
              "array([ 5.04736997, 20.79741905,  8.03804137,  2.82966835,  3.71703721,\n",
              "        2.79231128, 19.75762893,  4.3993302 ,  4.97243414,  4.16432433,\n",
              "        8.59817565,  6.00357782,  5.56770844,  2.95060769,  6.50185678,\n",
              "        4.51372928,  5.21076556,  4.43225319,  3.20290645,  3.98241648,\n",
              "        3.17242219,  3.09039184,  6.71823954,  3.46207802,  5.63743424,\n",
              "        5.88308189,  3.30544439,  3.4609695 ,  3.53967429,  9.35529362,\n",
              "        4.22185643, 18.2256567 ,  3.60951094,  8.44520013,  8.55605196,\n",
              "        2.89606859,  6.65073078,  3.42394499,  2.78166951,  3.33681545,\n",
              "        3.56550277,  6.31141334,  3.70495436,  5.07208993,  7.46105762,\n",
              "       10.17892268,  3.37805233,  4.25466857,  5.33968624,  3.74042695,\n",
              "        5.56593481,  6.53012399,  4.25821583,  2.96069521,  5.6745696 ,\n",
              "        3.56018188, 13.73504925, 18.21013745])"
            ]
          },
          "metadata": {},
          "execution_count": 39
        }
      ]
    },
    {
      "cell_type": "code",
      "source": [
        "plt.scatter(X_train, Y_train)\n",
        "plt.plot(X_train, Y_pred_train, color = 'r')\n",
        "plt.xlabel(\"Population\")\n",
        "plt.ylabel(\"Profit\")"
      ],
      "metadata": {
        "colab": {
          "base_uri": "https://localhost:8080/",
          "height": 296
        },
        "id": "KQWjuxbdXHI2",
        "outputId": "6c1c380f-2ef3-4230-e6a5-35cd48806bad"
      },
      "execution_count": null,
      "outputs": [
        {
          "output_type": "execute_result",
          "data": {
            "text/plain": [
              "Text(0, 0.5, 'Profit')"
            ]
          },
          "metadata": {},
          "execution_count": 40
        },
        {
          "output_type": "display_data",
          "data": {
            "text/plain": [
              "<Figure size 432x288 with 1 Axes>"
            ],
            "image/png": "[encoded data removed]"
          },
          "metadata": {
            "needs_background": "light"
          }
        }
      ]
    },
    {
      "cell_type": "code",
      "source": [
        "# Testing the model\n",
        "Y_pred_test = lr.predict(X_test)\n",
        "Y_pred_test"
      ],
      "metadata": {
        "colab": {
          "base_uri": "https://localhost:8080/"
        },
        "id": "GQXjTfNfX3DQ",
        "outputId": "6286a820-fdea-427e-ea01-2094c7f5369b"
      },
      "execution_count": null,
      "outputs": [
        {
          "output_type": "execute_result",
          "data": {
            "text/plain": [
              "array([ 7.38567838,  3.6402169 ,  3.29513517,  6.9923761 ,  6.40452887,\n",
              "       12.05675261,  7.68874727, 11.81509563, 21.82168992,  6.40264439,\n",
              "        2.87123778,  4.46772578,  4.2292835 ,  6.18371204,  4.2654212 ,\n",
              "        2.81769635,  5.43878777,  5.49698498, 11.43819942,  3.53634874,\n",
              "       19.67892413,  3.09294144,  4.06998943,  7.52978575,  4.25211898,\n",
              "        3.32872327,  6.6522827 , 12.91031166,  2.81237547,  3.03164038,\n",
              "        3.35222386,  3.86258566, 10.18779083,  4.83863599,  5.21930115,\n",
              "        4.33658807,  3.86724144, 11.42933127,  3.23616199])"
            ]
          },
          "metadata": {},
          "execution_count": 41
        }
      ]
    },
    {
      "cell_type": "code",
      "source": [
        "plt.scatter(X_test, Y_test)\n",
        "plt.plot(X_test, Y_pred_test, color = 'r')\n",
        "plt.xlabel(\"Population\")\n",
        "plt.ylabel(\"Profit\")"
      ],
      "metadata": {
        "colab": {
          "base_uri": "https://localhost:8080/",
          "height": 297
        },
        "id": "RwvoDnXAYFCO",
        "outputId": "a86f6972-6421-4a17-a1d0-d3a8fd910951"
      },
      "execution_count": null,
      "outputs": [
        {
          "output_type": "execute_result",
          "data": {
            "text/plain": [
              "Text(0, 0.5, 'Profit')"
            ]
          },
          "metadata": {},
          "execution_count": 42
        },
        {
          "output_type": "display_data",
          "data": {
            "text/plain": [
              "<Figure size 432x288 with 1 Axes>"
            ],
            "image/png": "[encoded data removed]"
          },
          "metadata": {
            "needs_background": "light"
          }
        }
      ]
    },
    {
      "cell_type": "code",
      "source": [
        "mse_train = mean_squared_error(y_true = Y_train, y_pred = Y_pred_train)\n",
        "mse_train"
      ],
      "metadata": {
        "colab": {
          "base_uri": "https://localhost:8080/"
        },
        "id": "NtmSqzsGZAjJ",
        "outputId": "31567e2e-ad0d-48f6-d6ee-518a3754dcf4"
      },
      "execution_count": null,
      "outputs": [
        {
          "output_type": "execute_result",
          "data": {
            "text/plain": [
              "10.61631623342678"
            ]
          },
          "metadata": {},
          "execution_count": 43
        }
      ]
    },
    {
      "cell_type": "code",
      "source": [
        "mse_test = mean_squared_error(y_true = Y_test, y_pred = Y_pred_test)\n",
        "mse_test"
      ],
      "metadata": {
        "colab": {
          "base_uri": "https://localhost:8080/"
        },
        "id": "d5TVKRbuZMtZ",
        "outputId": "710aba66-ddb5-4b6d-b7a3-e70f7fa31424"
      },
      "execution_count": null,
      "outputs": [
        {
          "output_type": "execute_result",
          "data": {
            "text/plain": [
              "7.174213021097658"
            ]
          },
          "metadata": {},
          "execution_count": 44
        }
      ]
    }
  ]
}