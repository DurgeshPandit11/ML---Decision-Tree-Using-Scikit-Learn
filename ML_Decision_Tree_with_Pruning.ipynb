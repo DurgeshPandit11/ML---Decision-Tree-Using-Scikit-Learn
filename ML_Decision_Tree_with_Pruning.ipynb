{
  "nbformat": 4,
  "nbformat_minor": 0,
  "metadata": {
    "colab": {
      "provenance": []
    },
    "kernelspec": {
      "name": "python3",
      "display_name": "Python 3"
    },
    "language_info": {
      "name": "python"
    }
  },
  "cells": [
    {
      "cell_type": "code",
      "execution_count": null,
      "metadata": {
        "id": "m3oP3fs1lG1N"
      },
      "outputs": [],
      "source": [
        "import pandas as pd"
      ]
    },
    {
      "cell_type": "code",
      "source": [
        "df = pd.read_csv('/content/Breast_cancer_data.csv')\n",
        "df"
      ],
      "metadata": {
        "id": "eyeYP4pQlw8g",
        "colab": {
          "base_uri": "https://localhost:8080/",
          "height": 423
        },
        "outputId": "08950425-e646-4da9-dc1b-33056b93a148"
      },
      "execution_count": null,
      "outputs": [
        {
          "output_type": "execute_result",
          "data": {
            "text/plain": [
              "     mean_radius  mean_texture  mean_perimeter  mean_area  mean_smoothness  \\\n",
              "0          17.99         10.38          122.80     1001.0          0.11840   \n",
              "1          20.57         17.77          132.90     1326.0          0.08474   \n",
              "2          19.69         21.25          130.00     1203.0          0.10960   \n",
              "3          11.42         20.38           77.58      386.1          0.14250   \n",
              "4          20.29         14.34          135.10     1297.0          0.10030   \n",
              "..           ...           ...             ...        ...              ...   \n",
              "564        21.56         22.39          142.00     1479.0          0.11100   \n",
              "565        20.13         28.25          131.20     1261.0          0.09780   \n",
              "566        16.60         28.08          108.30      858.1          0.08455   \n",
              "567        20.60         29.33          140.10     1265.0          0.11780   \n",
              "568         7.76         24.54           47.92      181.0          0.05263   \n",
              "\n",
              "     diagnosis  \n",
              "0            0  \n",
              "1            0  \n",
              "2            0  \n",
              "3            0  \n",
              "4            0  \n",
              "..         ...  \n",
              "564          0  \n",
              "565          0  \n",
              "566          0  \n",
              "567          0  \n",
              "568          1  \n",
              "\n",
              "[569 rows x 6 columns]"
            ],
            "text/html": [
              "\n",
              "  <div id=\"df-1431a058-a2d4-4a45-9c8f-2f3a93788d3a\">\n",
              "    <div class=\"colab-df-container\">\n",
              "      <div>\n",
              "<style scoped>\n",
              "    .dataframe tbody tr th:only-of-type {\n",
              "        vertical-align: middle;\n",
              "    }\n",
              "\n",
              "    .dataframe tbody tr th {\n",
              "        vertical-align: top;\n",
              "    }\n",
              "\n",
              "    .dataframe thead th {\n",
              "        text-align: right;\n",
              "    }\n",
              "</style>\n",
              "<table border=\"1\" class=\"dataframe\">\n",
              "  <thead>\n",
              "    <tr style=\"text-align: right;\">\n",
              "      <th></th>\n",
              "      <th>mean_radius</th>\n",
              "      <th>mean_texture</th>\n",
              "      <th>mean_perimeter</th>\n",
              "      <th>mean_area</th>\n",
              "      <th>mean_smoothness</th>\n",
              "      <th>diagnosis</th>\n",
              "    </tr>\n",
              "  </thead>\n",
              "  <tbody>\n",
              "    <tr>\n",
              "      <th>0</th>\n",
              "      <td>17.99</td>\n",
              "      <td>10.38</td>\n",
              "      <td>122.80</td>\n",
              "      <td>1001.0</td>\n",
              "      <td>0.11840</td>\n",
              "      <td>0</td>\n",
              "    </tr>\n",
              "    <tr>\n",
              "      <th>1</th>\n",
              "      <td>20.57</td>\n",
              "      <td>17.77</td>\n",
              "      <td>132.90</td>\n",
              "      <td>1326.0</td>\n",
              "      <td>0.08474</td>\n",
              "      <td>0</td>\n",
              "    </tr>\n",
              "    <tr>\n",
              "      <th>2</th>\n",
              "      <td>19.69</td>\n",
              "      <td>21.25</td>\n",
              "      <td>130.00</td>\n",
              "      <td>1203.0</td>\n",
              "      <td>0.10960</td>\n",
              "      <td>0</td>\n",
              "    </tr>\n",
              "    <tr>\n",
              "      <th>3</th>\n",
              "      <td>11.42</td>\n",
              "      <td>20.38</td>\n",
              "      <td>77.58</td>\n",
              "      <td>386.1</td>\n",
              "      <td>0.14250</td>\n",
              "      <td>0</td>\n",
              "    </tr>\n",
              "    <tr>\n",
              "      <th>4</th>\n",
              "      <td>20.29</td>\n",
              "      <td>14.34</td>\n",
              "      <td>135.10</td>\n",
              "      <td>1297.0</td>\n",
              "      <td>0.10030</td>\n",
              "      <td>0</td>\n",
              "    </tr>\n",
              "    <tr>\n",
              "      <th>...</th>\n",
              "      <td>...</td>\n",
              "      <td>...</td>\n",
              "      <td>...</td>\n",
              "      <td>...</td>\n",
              "      <td>...</td>\n",
              "      <td>...</td>\n",
              "    </tr>\n",
              "    <tr>\n",
              "      <th>564</th>\n",
              "      <td>21.56</td>\n",
              "      <td>22.39</td>\n",
              "      <td>142.00</td>\n",
              "      <td>1479.0</td>\n",
              "      <td>0.11100</td>\n",
              "      <td>0</td>\n",
              "    </tr>\n",
              "    <tr>\n",
              "      <th>565</th>\n",
              "      <td>20.13</td>\n",
              "      <td>28.25</td>\n",
              "      <td>131.20</td>\n",
              "      <td>1261.0</td>\n",
              "      <td>0.09780</td>\n",
              "      <td>0</td>\n",
              "    </tr>\n",
              "    <tr>\n",
              "      <th>566</th>\n",
              "      <td>16.60</td>\n",
              "      <td>28.08</td>\n",
              "      <td>108.30</td>\n",
              "      <td>858.1</td>\n",
              "      <td>0.08455</td>\n",
              "      <td>0</td>\n",
              "    </tr>\n",
              "    <tr>\n",
              "      <th>567</th>\n",
              "      <td>20.60</td>\n",
              "      <td>29.33</td>\n",
              "      <td>140.10</td>\n",
              "      <td>1265.0</td>\n",
              "      <td>0.11780</td>\n",
              "      <td>0</td>\n",
              "    </tr>\n",
              "    <tr>\n",
              "      <th>568</th>\n",
              "      <td>7.76</td>\n",
              "      <td>24.54</td>\n",
              "      <td>47.92</td>\n",
              "      <td>181.0</td>\n",
              "      <td>0.05263</td>\n",
              "      <td>1</td>\n",
              "    </tr>\n",
              "  </tbody>\n",
              "</table>\n",
              "<p>569 rows × 6 columns</p>\n",
              "</div>\n",
              "      <button class=\"colab-df-convert\" onclick=\"convertToInteractive('df-1431a058-a2d4-4a45-9c8f-2f3a93788d3a')\"\n",
              "              title=\"Convert this dataframe to an interactive table.\"\n",
              "              style=\"display:none;\">\n",
              "        \n",
              "  <svg xmlns=\"http://www.w3.org/2000/svg\" height=\"24px\"viewBox=\"0 0 24 24\"\n",
              "       width=\"24px\">\n",
              "    <path d=\"M0 0h24v24H0V0z\" fill=\"none\"/>\n",
              "    <path d=\"M18.56 5.44l.94 2.06.94-2.06 2.06-.94-2.06-.94-.94-2.06-.94 2.06-2.06.94zm-11 1L8.5 8.5l.94-2.06 2.06-.94-2.06-.94L8.5 2.5l-.94 2.06-2.06.94zm10 10l.94 2.06.94-2.06 2.06-.94-2.06-.94-.94-2.06-.94 2.06-2.06.94z\"/><path d=\"M17.41 7.96l-1.37-1.37c-.4-.4-.92-.59-1.43-.59-.52 0-1.04.2-1.43.59L10.3 9.45l-7.72 7.72c-.78.78-.78 2.05 0 2.83L4 21.41c.39.39.9.59 1.41.59.51 0 1.02-.2 1.41-.59l7.78-7.78 2.81-2.81c.8-.78.8-2.07 0-2.86zM5.41 20L4 18.59l7.72-7.72 1.47 1.35L5.41 20z\"/>\n",
              "  </svg>\n",
              "      </button>\n",
              "      \n",
              "  <style>\n",
              "    .colab-df-container {\n",
              "      display:flex;\n",
              "      flex-wrap:wrap;\n",
              "      gap: 12px;\n",
              "    }\n",
              "\n",
              "    .colab-df-convert {\n",
              "      background-color: #E8F0FE;\n",
              "      border: none;\n",
              "      border-radius: 50%;\n",
              "      cursor: pointer;\n",
              "      display: none;\n",
              "      fill: #1967D2;\n",
              "      height: 32px;\n",
              "      padding: 0 0 0 0;\n",
              "      width: 32px;\n",
              "    }\n",
              "\n",
              "    .colab-df-convert:hover {\n",
              "      background-color: #E2EBFA;\n",
              "      box-shadow: 0px 1px 2px rgba(60, 64, 67, 0.3), 0px 1px 3px 1px rgba(60, 64, 67, 0.15);\n",
              "      fill: #174EA6;\n",
              "    }\n",
              "\n",
              "    [theme=dark] .colab-df-convert {\n",
              "      background-color: #3B4455;\n",
              "      fill: #D2E3FC;\n",
              "    }\n",
              "\n",
              "    [theme=dark] .colab-df-convert:hover {\n",
              "      background-color: #434B5C;\n",
              "      box-shadow: 0px 1px 3px 1px rgba(0, 0, 0, 0.15);\n",
              "      filter: drop-shadow(0px 1px 2px rgba(0, 0, 0, 0.3));\n",
              "      fill: #FFFFFF;\n",
              "    }\n",
              "  </style>\n",
              "\n",
              "      <script>\n",
              "        const buttonEl =\n",
              "          document.querySelector('#df-1431a058-a2d4-4a45-9c8f-2f3a93788d3a button.colab-df-convert');\n",
              "        buttonEl.style.display =\n",
              "          google.colab.kernel.accessAllowed ? 'block' : 'none';\n",
              "\n",
              "        async function convertToInteractive(key) {\n",
              "          const element = document.querySelector('#df-1431a058-a2d4-4a45-9c8f-2f3a93788d3a');\n",
              "          const dataTable =\n",
              "            await google.colab.kernel.invokeFunction('convertToInteractive',\n",
              "                                                     [key], {});\n",
              "          if (!dataTable) return;\n",
              "\n",
              "          const docLinkHtml = 'Like what you see? Visit the ' +\n",
              "            '<a target=\"_blank\" href=https://colab.research.google.com/notebooks/data_table.ipynb>data table notebook</a>'\n",
              "            + ' to learn more about interactive tables.';\n",
              "          element.innerHTML = '';\n",
              "          dataTable['output_type'] = 'display_data';\n",
              "          await google.colab.output.renderOutput(dataTable, element);\n",
              "          const docLink = document.createElement('div');\n",
              "          docLink.innerHTML = docLinkHtml;\n",
              "          element.appendChild(docLink);\n",
              "        }\n",
              "      </script>\n",
              "    </div>\n",
              "  </div>\n",
              "  "
            ]
          },
          "metadata": {},
          "execution_count": 58
        }
      ]
    },
    {
      "cell_type": "code",
      "source": [
        "from sklearn.model_selection import train_test_split"
      ],
      "metadata": {
        "id": "LcinArmIewHk"
      },
      "execution_count": null,
      "outputs": []
    },
    {
      "cell_type": "code",
      "source": [
        "X = df.drop(columns = 'diagnosis')\n",
        "Y = df['diagnosis']\n",
        "X_train, X_test, Y_train, Y_test = train_test_split(X, Y, test_size = 0.3, random_state = 5)"
      ],
      "metadata": {
        "id": "VgWDcmJje4Ee"
      },
      "execution_count": null,
      "outputs": []
    },
    {
      "cell_type": "code",
      "source": [
        "X_train"
      ],
      "metadata": {
        "colab": {
          "base_uri": "https://localhost:8080/",
          "height": 423
        },
        "id": "XKiJR8TUfyH9",
        "outputId": "55698dde-5353-4b5d-c262-3263bc8027d0"
      },
      "execution_count": null,
      "outputs": [
        {
          "output_type": "execute_result",
          "data": {
            "text/plain": [
              "     mean_radius  mean_texture  mean_perimeter  mean_area  mean_smoothness\n",
              "47        13.170         18.66           85.98      534.6          0.11580\n",
              "527       12.340         12.27           78.94      468.5          0.09003\n",
              "435       13.980         19.62           91.12      599.5          0.10600\n",
              "21         9.504         12.44           60.34      273.9          0.10240\n",
              "554       12.880         28.92           82.50      514.3          0.08123\n",
              "..           ...           ...             ...        ...              ...\n",
              "8         13.000         21.82           87.50      519.8          0.12730\n",
              "73        13.800         15.79           90.43      584.1          0.10070\n",
              "400       17.910         21.02          124.40      994.0          0.12300\n",
              "118       15.780         22.91          105.70      782.6          0.11550\n",
              "206        9.876         17.27           62.92      295.4          0.10890\n",
              "\n",
              "[398 rows x 5 columns]"
            ],
            "text/html": [
              "\n",
              "  <div id=\"df-c411def2-09ad-44c7-9495-e71d533179a5\">\n",
              "    <div class=\"colab-df-container\">\n",
              "      <div>\n",
              "<style scoped>\n",
              "    .dataframe tbody tr th:only-of-type {\n",
              "        vertical-align: middle;\n",
              "    }\n",
              "\n",
              "    .dataframe tbody tr th {\n",
              "        vertical-align: top;\n",
              "    }\n",
              "\n",
              "    .dataframe thead th {\n",
              "        text-align: right;\n",
              "    }\n",
              "</style>\n",
              "<table border=\"1\" class=\"dataframe\">\n",
              "  <thead>\n",
              "    <tr style=\"text-align: right;\">\n",
              "      <th></th>\n",
              "      <th>mean_radius</th>\n",
              "      <th>mean_texture</th>\n",
              "      <th>mean_perimeter</th>\n",
              "      <th>mean_area</th>\n",
              "      <th>mean_smoothness</th>\n",
              "    </tr>\n",
              "  </thead>\n",
              "  <tbody>\n",
              "    <tr>\n",
              "      <th>47</th>\n",
              "      <td>13.170</td>\n",
              "      <td>18.66</td>\n",
              "      <td>85.98</td>\n",
              "      <td>534.6</td>\n",
              "      <td>0.11580</td>\n",
              "    </tr>\n",
              "    <tr>\n",
              "      <th>527</th>\n",
              "      <td>12.340</td>\n",
              "      <td>12.27</td>\n",
              "      <td>78.94</td>\n",
              "      <td>468.5</td>\n",
              "      <td>0.09003</td>\n",
              "    </tr>\n",
              "    <tr>\n",
              "      <th>435</th>\n",
              "      <td>13.980</td>\n",
              "      <td>19.62</td>\n",
              "      <td>91.12</td>\n",
              "      <td>599.5</td>\n",
              "      <td>0.10600</td>\n",
              "    </tr>\n",
              "    <tr>\n",
              "      <th>21</th>\n",
              "      <td>9.504</td>\n",
              "      <td>12.44</td>\n",
              "      <td>60.34</td>\n",
              "      <td>273.9</td>\n",
              "      <td>0.10240</td>\n",
              "    </tr>\n",
              "    <tr>\n",
              "      <th>554</th>\n",
              "      <td>12.880</td>\n",
              "      <td>28.92</td>\n",
              "      <td>82.50</td>\n",
              "      <td>514.3</td>\n",
              "      <td>0.08123</td>\n",
              "    </tr>\n",
              "    <tr>\n",
              "      <th>...</th>\n",
              "      <td>...</td>\n",
              "      <td>...</td>\n",
              "      <td>...</td>\n",
              "      <td>...</td>\n",
              "      <td>...</td>\n",
              "    </tr>\n",
              "    <tr>\n",
              "      <th>8</th>\n",
              "      <td>13.000</td>\n",
              "      <td>21.82</td>\n",
              "      <td>87.50</td>\n",
              "      <td>519.8</td>\n",
              "      <td>0.12730</td>\n",
              "    </tr>\n",
              "    <tr>\n",
              "      <th>73</th>\n",
              "      <td>13.800</td>\n",
              "      <td>15.79</td>\n",
              "      <td>90.43</td>\n",
              "      <td>584.1</td>\n",
              "      <td>0.10070</td>\n",
              "    </tr>\n",
              "    <tr>\n",
              "      <th>400</th>\n",
              "      <td>17.910</td>\n",
              "      <td>21.02</td>\n",
              "      <td>124.40</td>\n",
              "      <td>994.0</td>\n",
              "      <td>0.12300</td>\n",
              "    </tr>\n",
              "    <tr>\n",
              "      <th>118</th>\n",
              "      <td>15.780</td>\n",
              "      <td>22.91</td>\n",
              "      <td>105.70</td>\n",
              "      <td>782.6</td>\n",
              "      <td>0.11550</td>\n",
              "    </tr>\n",
              "    <tr>\n",
              "      <th>206</th>\n",
              "      <td>9.876</td>\n",
              "      <td>17.27</td>\n",
              "      <td>62.92</td>\n",
              "      <td>295.4</td>\n",
              "      <td>0.10890</td>\n",
              "    </tr>\n",
              "  </tbody>\n",
              "</table>\n",
              "<p>398 rows × 5 columns</p>\n",
              "</div>\n",
              "      <button class=\"colab-df-convert\" onclick=\"convertToInteractive('df-c411def2-09ad-44c7-9495-e71d533179a5')\"\n",
              "              title=\"Convert this dataframe to an interactive table.\"\n",
              "              style=\"display:none;\">\n",
              "        \n",
              "  <svg xmlns=\"http://www.w3.org/2000/svg\" height=\"24px\"viewBox=\"0 0 24 24\"\n",
              "       width=\"24px\">\n",
              "    <path d=\"M0 0h24v24H0V0z\" fill=\"none\"/>\n",
              "    <path d=\"M18.56 5.44l.94 2.06.94-2.06 2.06-.94-2.06-.94-.94-2.06-.94 2.06-2.06.94zm-11 1L8.5 8.5l.94-2.06 2.06-.94-2.06-.94L8.5 2.5l-.94 2.06-2.06.94zm10 10l.94 2.06.94-2.06 2.06-.94-2.06-.94-.94-2.06-.94 2.06-2.06.94z\"/><path d=\"M17.41 7.96l-1.37-1.37c-.4-.4-.92-.59-1.43-.59-.52 0-1.04.2-1.43.59L10.3 9.45l-7.72 7.72c-.78.78-.78 2.05 0 2.83L4 21.41c.39.39.9.59 1.41.59.51 0 1.02-.2 1.41-.59l7.78-7.78 2.81-2.81c.8-.78.8-2.07 0-2.86zM5.41 20L4 18.59l7.72-7.72 1.47 1.35L5.41 20z\"/>\n",
              "  </svg>\n",
              "      </button>\n",
              "      \n",
              "  <style>\n",
              "    .colab-df-container {\n",
              "      display:flex;\n",
              "      flex-wrap:wrap;\n",
              "      gap: 12px;\n",
              "    }\n",
              "\n",
              "    .colab-df-convert {\n",
              "      background-color: #E8F0FE;\n",
              "      border: none;\n",
              "      border-radius: 50%;\n",
              "      cursor: pointer;\n",
              "      display: none;\n",
              "      fill: #1967D2;\n",
              "      height: 32px;\n",
              "      padding: 0 0 0 0;\n",
              "      width: 32px;\n",
              "    }\n",
              "\n",
              "    .colab-df-convert:hover {\n",
              "      background-color: #E2EBFA;\n",
              "      box-shadow: 0px 1px 2px rgba(60, 64, 67, 0.3), 0px 1px 3px 1px rgba(60, 64, 67, 0.15);\n",
              "      fill: #174EA6;\n",
              "    }\n",
              "\n",
              "    [theme=dark] .colab-df-convert {\n",
              "      background-color: #3B4455;\n",
              "      fill: #D2E3FC;\n",
              "    }\n",
              "\n",
              "    [theme=dark] .colab-df-convert:hover {\n",
              "      background-color: #434B5C;\n",
              "      box-shadow: 0px 1px 3px 1px rgba(0, 0, 0, 0.15);\n",
              "      filter: drop-shadow(0px 1px 2px rgba(0, 0, 0, 0.3));\n",
              "      fill: #FFFFFF;\n",
              "    }\n",
              "  </style>\n",
              "\n",
              "      <script>\n",
              "        const buttonEl =\n",
              "          document.querySelector('#df-c411def2-09ad-44c7-9495-e71d533179a5 button.colab-df-convert');\n",
              "        buttonEl.style.display =\n",
              "          google.colab.kernel.accessAllowed ? 'block' : 'none';\n",
              "\n",
              "        async function convertToInteractive(key) {\n",
              "          const element = document.querySelector('#df-c411def2-09ad-44c7-9495-e71d533179a5');\n",
              "          const dataTable =\n",
              "            await google.colab.kernel.invokeFunction('convertToInteractive',\n",
              "                                                     [key], {});\n",
              "          if (!dataTable) return;\n",
              "\n",
              "          const docLinkHtml = 'Like what you see? Visit the ' +\n",
              "            '<a target=\"_blank\" href=https://colab.research.google.com/notebooks/data_table.ipynb>data table notebook</a>'\n",
              "            + ' to learn more about interactive tables.';\n",
              "          element.innerHTML = '';\n",
              "          dataTable['output_type'] = 'display_data';\n",
              "          await google.colab.output.renderOutput(dataTable, element);\n",
              "          const docLink = document.createElement('div');\n",
              "          docLink.innerHTML = docLinkHtml;\n",
              "          element.appendChild(docLink);\n",
              "        }\n",
              "      </script>\n",
              "    </div>\n",
              "  </div>\n",
              "  "
            ]
          },
          "metadata": {},
          "execution_count": 61
        }
      ]
    },
    {
      "cell_type": "code",
      "source": [
        "Y_train"
      ],
      "metadata": {
        "colab": {
          "base_uri": "https://localhost:8080/"
        },
        "id": "dGJ4DW7Rf27w",
        "outputId": "3eaeca4c-9dbf-4622-ec93-62353aa74a63"
      },
      "execution_count": null,
      "outputs": [
        {
          "output_type": "execute_result",
          "data": {
            "text/plain": [
              "47     0\n",
              "527    1\n",
              "435    0\n",
              "21     1\n",
              "554    1\n",
              "      ..\n",
              "8      0\n",
              "73     0\n",
              "400    0\n",
              "118    0\n",
              "206    1\n",
              "Name: diagnosis, Length: 398, dtype: int64"
            ]
          },
          "metadata": {},
          "execution_count": 62
        }
      ]
    },
    {
      "cell_type": "code",
      "source": [
        "X_test"
      ],
      "metadata": {
        "colab": {
          "base_uri": "https://localhost:8080/",
          "height": 423
        },
        "id": "0MhQq_rJf-53",
        "outputId": "f0ef9099-6863-45a0-9343-fc9a9d9de935"
      },
      "execution_count": null,
      "outputs": [
        {
          "output_type": "execute_result",
          "data": {
            "text/plain": [
              "     mean_radius  mean_texture  mean_perimeter  mean_area  mean_smoothness\n",
              "28        15.300         25.27          102.40      732.4          0.10820\n",
              "163       12.340         22.22           79.85      464.5          0.10120\n",
              "123       14.500         10.89           94.28      640.7          0.11010\n",
              "361       13.300         21.57           85.24      546.1          0.08582\n",
              "549       10.820         24.21           68.89      361.6          0.08192\n",
              "..           ...           ...             ...        ...              ...\n",
              "447       14.800         17.66           95.88      674.8          0.09179\n",
              "98        11.600         12.84           74.34      412.6          0.08983\n",
              "448       14.530         19.34           94.25      659.7          0.08388\n",
              "381       11.040         14.93           70.67      372.7          0.07987\n",
              "467        9.668         18.10           61.06      286.3          0.08311\n",
              "\n",
              "[171 rows x 5 columns]"
            ],
            "text/html": [
              "\n",
              "  <div id=\"df-8eb84169-54ea-482d-86d0-3895031eec6b\">\n",
              "    <div class=\"colab-df-container\">\n",
              "      <div>\n",
              "<style scoped>\n",
              "    .dataframe tbody tr th:only-of-type {\n",
              "        vertical-align: middle;\n",
              "    }\n",
              "\n",
              "    .dataframe tbody tr th {\n",
              "        vertical-align: top;\n",
              "    }\n",
              "\n",
              "    .dataframe thead th {\n",
              "        text-align: right;\n",
              "    }\n",
              "</style>\n",
              "<table border=\"1\" class=\"dataframe\">\n",
              "  <thead>\n",
              "    <tr style=\"text-align: right;\">\n",
              "      <th></th>\n",
              "      <th>mean_radius</th>\n",
              "      <th>mean_texture</th>\n",
              "      <th>mean_perimeter</th>\n",
              "      <th>mean_area</th>\n",
              "      <th>mean_smoothness</th>\n",
              "    </tr>\n",
              "  </thead>\n",
              "  <tbody>\n",
              "    <tr>\n",
              "      <th>28</th>\n",
              "      <td>15.300</td>\n",
              "      <td>25.27</td>\n",
              "      <td>102.40</td>\n",
              "      <td>732.4</td>\n",
              "      <td>0.10820</td>\n",
              "    </tr>\n",
              "    <tr>\n",
              "      <th>163</th>\n",
              "      <td>12.340</td>\n",
              "      <td>22.22</td>\n",
              "      <td>79.85</td>\n",
              "      <td>464.5</td>\n",
              "      <td>0.10120</td>\n",
              "    </tr>\n",
              "    <tr>\n",
              "      <th>123</th>\n",
              "      <td>14.500</td>\n",
              "      <td>10.89</td>\n",
              "      <td>94.28</td>\n",
              "      <td>640.7</td>\n",
              "      <td>0.11010</td>\n",
              "    </tr>\n",
              "    <tr>\n",
              "      <th>361</th>\n",
              "      <td>13.300</td>\n",
              "      <td>21.57</td>\n",
              "      <td>85.24</td>\n",
              "      <td>546.1</td>\n",
              "      <td>0.08582</td>\n",
              "    </tr>\n",
              "    <tr>\n",
              "      <th>549</th>\n",
              "      <td>10.820</td>\n",
              "      <td>24.21</td>\n",
              "      <td>68.89</td>\n",
              "      <td>361.6</td>\n",
              "      <td>0.08192</td>\n",
              "    </tr>\n",
              "    <tr>\n",
              "      <th>...</th>\n",
              "      <td>...</td>\n",
              "      <td>...</td>\n",
              "      <td>...</td>\n",
              "      <td>...</td>\n",
              "      <td>...</td>\n",
              "    </tr>\n",
              "    <tr>\n",
              "      <th>447</th>\n",
              "      <td>14.800</td>\n",
              "      <td>17.66</td>\n",
              "      <td>95.88</td>\n",
              "      <td>674.8</td>\n",
              "      <td>0.09179</td>\n",
              "    </tr>\n",
              "    <tr>\n",
              "      <th>98</th>\n",
              "      <td>11.600</td>\n",
              "      <td>12.84</td>\n",
              "      <td>74.34</td>\n",
              "      <td>412.6</td>\n",
              "      <td>0.08983</td>\n",
              "    </tr>\n",
              "    <tr>\n",
              "      <th>448</th>\n",
              "      <td>14.530</td>\n",
              "      <td>19.34</td>\n",
              "      <td>94.25</td>\n",
              "      <td>659.7</td>\n",
              "      <td>0.08388</td>\n",
              "    </tr>\n",
              "    <tr>\n",
              "      <th>381</th>\n",
              "      <td>11.040</td>\n",
              "      <td>14.93</td>\n",
              "      <td>70.67</td>\n",
              "      <td>372.7</td>\n",
              "      <td>0.07987</td>\n",
              "    </tr>\n",
              "    <tr>\n",
              "      <th>467</th>\n",
              "      <td>9.668</td>\n",
              "      <td>18.10</td>\n",
              "      <td>61.06</td>\n",
              "      <td>286.3</td>\n",
              "      <td>0.08311</td>\n",
              "    </tr>\n",
              "  </tbody>\n",
              "</table>\n",
              "<p>171 rows × 5 columns</p>\n",
              "</div>\n",
              "      <button class=\"colab-df-convert\" onclick=\"convertToInteractive('df-8eb84169-54ea-482d-86d0-3895031eec6b')\"\n",
              "              title=\"Convert this dataframe to an interactive table.\"\n",
              "              style=\"display:none;\">\n",
              "        \n",
              "  <svg xmlns=\"http://www.w3.org/2000/svg\" height=\"24px\"viewBox=\"0 0 24 24\"\n",
              "       width=\"24px\">\n",
              "    <path d=\"M0 0h24v24H0V0z\" fill=\"none\"/>\n",
              "    <path d=\"M18.56 5.44l.94 2.06.94-2.06 2.06-.94-2.06-.94-.94-2.06-.94 2.06-2.06.94zm-11 1L8.5 8.5l.94-2.06 2.06-.94-2.06-.94L8.5 2.5l-.94 2.06-2.06.94zm10 10l.94 2.06.94-2.06 2.06-.94-2.06-.94-.94-2.06-.94 2.06-2.06.94z\"/><path d=\"M17.41 7.96l-1.37-1.37c-.4-.4-.92-.59-1.43-.59-.52 0-1.04.2-1.43.59L10.3 9.45l-7.72 7.72c-.78.78-.78 2.05 0 2.83L4 21.41c.39.39.9.59 1.41.59.51 0 1.02-.2 1.41-.59l7.78-7.78 2.81-2.81c.8-.78.8-2.07 0-2.86zM5.41 20L4 18.59l7.72-7.72 1.47 1.35L5.41 20z\"/>\n",
              "  </svg>\n",
              "      </button>\n",
              "      \n",
              "  <style>\n",
              "    .colab-df-container {\n",
              "      display:flex;\n",
              "      flex-wrap:wrap;\n",
              "      gap: 12px;\n",
              "    }\n",
              "\n",
              "    .colab-df-convert {\n",
              "      background-color: #E8F0FE;\n",
              "      border: none;\n",
              "      border-radius: 50%;\n",
              "      cursor: pointer;\n",
              "      display: none;\n",
              "      fill: #1967D2;\n",
              "      height: 32px;\n",
              "      padding: 0 0 0 0;\n",
              "      width: 32px;\n",
              "    }\n",
              "\n",
              "    .colab-df-convert:hover {\n",
              "      background-color: #E2EBFA;\n",
              "      box-shadow: 0px 1px 2px rgba(60, 64, 67, 0.3), 0px 1px 3px 1px rgba(60, 64, 67, 0.15);\n",
              "      fill: #174EA6;\n",
              "    }\n",
              "\n",
              "    [theme=dark] .colab-df-convert {\n",
              "      background-color: #3B4455;\n",
              "      fill: #D2E3FC;\n",
              "    }\n",
              "\n",
              "    [theme=dark] .colab-df-convert:hover {\n",
              "      background-color: #434B5C;\n",
              "      box-shadow: 0px 1px 3px 1px rgba(0, 0, 0, 0.15);\n",
              "      filter: drop-shadow(0px 1px 2px rgba(0, 0, 0, 0.3));\n",
              "      fill: #FFFFFF;\n",
              "    }\n",
              "  </style>\n",
              "\n",
              "      <script>\n",
              "        const buttonEl =\n",
              "          document.querySelector('#df-8eb84169-54ea-482d-86d0-3895031eec6b button.colab-df-convert');\n",
              "        buttonEl.style.display =\n",
              "          google.colab.kernel.accessAllowed ? 'block' : 'none';\n",
              "\n",
              "        async function convertToInteractive(key) {\n",
              "          const element = document.querySelector('#df-8eb84169-54ea-482d-86d0-3895031eec6b');\n",
              "          const dataTable =\n",
              "            await google.colab.kernel.invokeFunction('convertToInteractive',\n",
              "                                                     [key], {});\n",
              "          if (!dataTable) return;\n",
              "\n",
              "          const docLinkHtml = 'Like what you see? Visit the ' +\n",
              "            '<a target=\"_blank\" href=https://colab.research.google.com/notebooks/data_table.ipynb>data table notebook</a>'\n",
              "            + ' to learn more about interactive tables.';\n",
              "          element.innerHTML = '';\n",
              "          dataTable['output_type'] = 'display_data';\n",
              "          await google.colab.output.renderOutput(dataTable, element);\n",
              "          const docLink = document.createElement('div');\n",
              "          docLink.innerHTML = docLinkHtml;\n",
              "          element.appendChild(docLink);\n",
              "        }\n",
              "      </script>\n",
              "    </div>\n",
              "  </div>\n",
              "  "
            ]
          },
          "metadata": {},
          "execution_count": 63
        }
      ]
    },
    {
      "cell_type": "code",
      "source": [
        "Y_test"
      ],
      "metadata": {
        "colab": {
          "base_uri": "https://localhost:8080/"
        },
        "id": "ieUZo4lfgBmp",
        "outputId": "7e76abae-1979-4d29-bd2d-86a2211aa5e5"
      },
      "execution_count": null,
      "outputs": [
        {
          "output_type": "execute_result",
          "data": {
            "text/plain": [
              "28     0\n",
              "163    1\n",
              "123    1\n",
              "361    1\n",
              "549    1\n",
              "      ..\n",
              "447    1\n",
              "98     1\n",
              "448    1\n",
              "381    1\n",
              "467    1\n",
              "Name: diagnosis, Length: 171, dtype: int64"
            ]
          },
          "metadata": {},
          "execution_count": 64
        }
      ]
    },
    {
      "cell_type": "code",
      "source": [
        "from sklearn.tree import DecisionTreeClassifier\n",
        "clf = DecisionTreeClassifier(max_depth = 3)\n",
        "clf.fit(X_train, Y_train)"
      ],
      "metadata": {
        "id": "oqMWQTi3mJDR",
        "colab": {
          "base_uri": "https://localhost:8080/",
          "height": 74
        },
        "outputId": "96da3884-f4cd-4389-c565-252cf19e2a7e"
      },
      "execution_count": null,
      "outputs": [
        {
          "output_type": "execute_result",
          "data": {
            "text/plain": [
              "DecisionTreeClassifier(max_depth=3)"
            ],
            "text/html": [
              "<style>#sk-container-id-7 {color: black;background-color: white;}#sk-container-id-7 pre{padding: 0;}#sk-container-id-7 div.sk-toggleable {background-color: white;}#sk-container-id-7 label.sk-toggleable__label {cursor: pointer;display: block;width: 100%;margin-bottom: 0;padding: 0.3em;box-sizing: border-box;text-align: center;}#sk-container-id-7 label.sk-toggleable__label-arrow:before {content: \"▸\";float: left;margin-right: 0.25em;color: #696969;}#sk-container-id-7 label.sk-toggleable__label-arrow:hover:before {color: black;}#sk-container-id-7 div.sk-estimator:hover label.sk-toggleable__label-arrow:before {color: black;}#sk-container-id-7 div.sk-toggleable__content {max-height: 0;max-width: 0;overflow: hidden;text-align: left;background-color: #f0f8ff;}#sk-container-id-7 div.sk-toggleable__content pre {margin: 0.2em;color: black;border-radius: 0.25em;background-color: #f0f8ff;}#sk-container-id-7 input.sk-toggleable__control:checked~div.sk-toggleable__content {max-height: 200px;max-width: 100%;overflow: auto;}#sk-container-id-7 input.sk-toggleable__control:checked~label.sk-toggleable__label-arrow:before {content: \"▾\";}#sk-container-id-7 div.sk-estimator input.sk-toggleable__control:checked~label.sk-toggleable__label {background-color: #d4ebff;}#sk-container-id-7 div.sk-label input.sk-toggleable__control:checked~label.sk-toggleable__label {background-color: #d4ebff;}#sk-container-id-7 input.sk-hidden--visually {border: 0;clip: rect(1px 1px 1px 1px);clip: rect(1px, 1px, 1px, 1px);height: 1px;margin: -1px;overflow: hidden;padding: 0;position: absolute;width: 1px;}#sk-container-id-7 div.sk-estimator {font-family: monospace;background-color: #f0f8ff;border: 1px dotted black;border-radius: 0.25em;box-sizing: border-box;margin-bottom: 0.5em;}#sk-container-id-7 div.sk-estimator:hover {background-color: #d4ebff;}#sk-container-id-7 div.sk-parallel-item::after {content: \"\";width: 100%;border-bottom: 1px solid gray;flex-grow: 1;}#sk-container-id-7 div.sk-label:hover label.sk-toggleable__label {background-color: #d4ebff;}#sk-container-id-7 div.sk-serial::before {content: \"\";position: absolute;border-left: 1px solid gray;box-sizing: border-box;top: 0;bottom: 0;left: 50%;z-index: 0;}#sk-container-id-7 div.sk-serial {display: flex;flex-direction: column;align-items: center;background-color: white;padding-right: 0.2em;padding-left: 0.2em;position: relative;}#sk-container-id-7 div.sk-item {position: relative;z-index: 1;}#sk-container-id-7 div.sk-parallel {display: flex;align-items: stretch;justify-content: center;background-color: white;position: relative;}#sk-container-id-7 div.sk-item::before, #sk-container-id-7 div.sk-parallel-item::before {content: \"\";position: absolute;border-left: 1px solid gray;box-sizing: border-box;top: 0;bottom: 0;left: 50%;z-index: -1;}#sk-container-id-7 div.sk-parallel-item {display: flex;flex-direction: column;z-index: 1;position: relative;background-color: white;}#sk-container-id-7 div.sk-parallel-item:first-child::after {align-self: flex-end;width: 50%;}#sk-container-id-7 div.sk-parallel-item:last-child::after {align-self: flex-start;width: 50%;}#sk-container-id-7 div.sk-parallel-item:only-child::after {width: 0;}#sk-container-id-7 div.sk-dashed-wrapped {border: 1px dashed gray;margin: 0 0.4em 0.5em 0.4em;box-sizing: border-box;padding-bottom: 0.4em;background-color: white;}#sk-container-id-7 div.sk-label label {font-family: monospace;font-weight: bold;display: inline-block;line-height: 1.2em;}#sk-container-id-7 div.sk-label-container {text-align: center;}#sk-container-id-7 div.sk-container {/* jupyter's `normalize.less` sets `[hidden] { display: none; }` but bootstrap.min.css set `[hidden] { display: none !important; }` so we also need the `!important` here to be able to override the default hidden behavior on the sphinx rendered scikit-learn.org. See: https://github.com/scikit-learn/scikit-learn/issues/21755 */display: inline-block !important;position: relative;}#sk-container-id-7 div.sk-text-repr-fallback {display: none;}</style><div id=\"sk-container-id-7\" class=\"sk-top-container\"><div class=\"sk-text-repr-fallback\"><pre>DecisionTreeClassifier(max_depth=3)</pre><b>In a Jupyter environment, please rerun this cell to show the HTML representation or trust the notebook. <br />On GitHub, the HTML representation is unable to render, please try loading this page with nbviewer.org.</b></div><div class=\"sk-container\" hidden><div class=\"sk-item\"><div class=\"sk-estimator sk-toggleable\"><input class=\"sk-toggleable__control sk-hidden--visually\" id=\"sk-estimator-id-7\" type=\"checkbox\" checked><label for=\"sk-estimator-id-7\" class=\"sk-toggleable__label sk-toggleable__label-arrow\">DecisionTreeClassifier</label><div class=\"sk-toggleable__content\"><pre>DecisionTreeClassifier(max_depth=3)</pre></div></div></div></div></div>"
            ]
          },
          "metadata": {},
          "execution_count": 65
        }
      ]
    },
    {
      "cell_type": "code",
      "source": [
        "clf.get_params()"
      ],
      "metadata": {
        "colab": {
          "base_uri": "https://localhost:8080/"
        },
        "id": "b3e5LjCMoI6s",
        "outputId": "00506e25-7e3d-46c1-86b8-b598ad4553e8"
      },
      "execution_count": null,
      "outputs": [
        {
          "output_type": "execute_result",
          "data": {
            "text/plain": [
              "{'ccp_alpha': 0.0,\n",
              " 'class_weight': None,\n",
              " 'criterion': 'gini',\n",
              " 'max_depth': 3,\n",
              " 'max_features': None,\n",
              " 'max_leaf_nodes': None,\n",
              " 'min_impurity_decrease': 0.0,\n",
              " 'min_samples_leaf': 1,\n",
              " 'min_samples_split': 2,\n",
              " 'min_weight_fraction_leaf': 0.0,\n",
              " 'random_state': None,\n",
              " 'splitter': 'best'}"
            ]
          },
          "metadata": {},
          "execution_count": 66
        }
      ]
    },
    {
      "cell_type": "code",
      "source": [
        "Y_pred = clf.predict(X_test)\n",
        "Y_pred"
      ],
      "metadata": {
        "colab": {
          "base_uri": "https://localhost:8080/"
        },
        "id": "GrpRagEzIqYS",
        "outputId": "e41422bd-b0c0-4c7a-9cb0-c0b4d9623986"
      },
      "execution_count": null,
      "outputs": [
        {
          "output_type": "execute_result",
          "data": {
            "text/plain": [
              "array([0, 1, 0, 1, 1, 0, 1, 1, 0, 1, 1, 0, 0, 1, 1, 1, 1, 1, 1, 1, 0, 1,\n",
              "       1, 1, 1, 1, 1, 0, 0, 0, 0, 0, 0, 0, 1, 1, 0, 1, 1, 0, 1, 1, 1, 0,\n",
              "       1, 1, 0, 0, 1, 0, 1, 1, 1, 1, 1, 0, 0, 0, 1, 0, 0, 0, 1, 1, 1, 1,\n",
              "       1, 1, 1, 0, 1, 0, 1, 1, 1, 1, 1, 1, 0, 0, 0, 1, 0, 0, 1, 1, 0, 1,\n",
              "       0, 0, 0, 0, 0, 0, 0, 0, 1, 1, 1, 1, 1, 0, 1, 1, 0, 0, 1, 0, 1, 1,\n",
              "       1, 0, 1, 0, 1, 1, 1, 1, 0, 1, 1, 1, 0, 1, 0, 1, 0, 1, 1, 0, 1, 1,\n",
              "       1, 1, 1, 0, 1, 1, 1, 1, 1, 1, 1, 0, 1, 1, 1, 0, 1, 1, 1, 1, 1, 1,\n",
              "       1, 0, 1, 1, 0, 0, 1, 1, 1, 1, 0, 0, 0, 1, 1, 1, 1])"
            ]
          },
          "metadata": {},
          "execution_count": 67
        }
      ]
    },
    {
      "cell_type": "code",
      "source": [
        "clf.predict_proba(X_test)"
      ],
      "metadata": {
        "colab": {
          "base_uri": "https://localhost:8080/"
        },
        "id": "QO8eZesQgfL5",
        "outputId": "771feebe-ba09-4611-937a-e008ce0ed0e7"
      },
      "execution_count": null,
      "outputs": [
        {
          "output_type": "execute_result",
          "data": {
            "text/plain": [
              "array([[0.76      , 0.24      ],\n",
              "       [0.2173913 , 0.7826087 ],\n",
              "       [0.76      , 0.24      ],\n",
              "       [0.01156069, 0.98843931],\n",
              "       [0.2173913 , 0.7826087 ],\n",
              "       [1.        , 0.        ],\n",
              "       [0.01156069, 0.98843931],\n",
              "       [0.01156069, 0.98843931],\n",
              "       [0.76      , 0.24      ],\n",
              "       [0.01156069, 0.98843931],\n",
              "       [0.2173913 , 0.7826087 ],\n",
              "       [1.        , 0.        ],\n",
              "       [1.        , 0.        ],\n",
              "       [0.2173913 , 0.7826087 ],\n",
              "       [0.2173913 , 0.7826087 ],\n",
              "       [0.01156069, 0.98843931],\n",
              "       [0.01156069, 0.98843931],\n",
              "       [0.01156069, 0.98843931],\n",
              "       [0.2173913 , 0.7826087 ],\n",
              "       [0.01156069, 0.98843931],\n",
              "       [1.        , 0.        ],\n",
              "       [0.01156069, 0.98843931],\n",
              "       [0.01156069, 0.98843931],\n",
              "       [0.01156069, 0.98843931],\n",
              "       [0.01156069, 0.98843931],\n",
              "       [0.01156069, 0.98843931],\n",
              "       [0.01156069, 0.98843931],\n",
              "       [1.        , 0.        ],\n",
              "       [0.76      , 0.24      ],\n",
              "       [1.        , 0.        ],\n",
              "       [1.        , 0.        ],\n",
              "       [1.        , 0.        ],\n",
              "       [0.76      , 0.24      ],\n",
              "       [1.        , 0.        ],\n",
              "       [0.1875    , 0.8125    ],\n",
              "       [0.2173913 , 0.7826087 ],\n",
              "       [1.        , 0.        ],\n",
              "       [0.01156069, 0.98843931],\n",
              "       [0.2173913 , 0.7826087 ],\n",
              "       [1.        , 0.        ],\n",
              "       [0.2173913 , 0.7826087 ],\n",
              "       [0.01156069, 0.98843931],\n",
              "       [0.01156069, 0.98843931],\n",
              "       [1.        , 0.        ],\n",
              "       [0.01156069, 0.98843931],\n",
              "       [0.01156069, 0.98843931],\n",
              "       [0.76      , 0.24      ],\n",
              "       [1.        , 0.        ],\n",
              "       [0.2173913 , 0.7826087 ],\n",
              "       [1.        , 0.        ],\n",
              "       [0.2173913 , 0.7826087 ],\n",
              "       [0.01156069, 0.98843931],\n",
              "       [0.01156069, 0.98843931],\n",
              "       [0.01156069, 0.98843931],\n",
              "       [0.2173913 , 0.7826087 ],\n",
              "       [1.        , 0.        ],\n",
              "       [0.76      , 0.24      ],\n",
              "       [0.76      , 0.24      ],\n",
              "       [0.01156069, 0.98843931],\n",
              "       [0.76      , 0.24      ],\n",
              "       [1.        , 0.        ],\n",
              "       [0.76      , 0.24      ],\n",
              "       [0.01156069, 0.98843931],\n",
              "       [0.01156069, 0.98843931],\n",
              "       [0.01156069, 0.98843931],\n",
              "       [0.2173913 , 0.7826087 ],\n",
              "       [0.01156069, 0.98843931],\n",
              "       [0.01156069, 0.98843931],\n",
              "       [0.01156069, 0.98843931],\n",
              "       [1.        , 0.        ],\n",
              "       [0.01156069, 0.98843931],\n",
              "       [1.        , 0.        ],\n",
              "       [0.01156069, 0.98843931],\n",
              "       [0.2173913 , 0.7826087 ],\n",
              "       [0.2173913 , 0.7826087 ],\n",
              "       [0.01156069, 0.98843931],\n",
              "       [0.1875    , 0.8125    ],\n",
              "       [0.01156069, 0.98843931],\n",
              "       [1.        , 0.        ],\n",
              "       [1.        , 0.        ],\n",
              "       [1.        , 0.        ],\n",
              "       [0.01156069, 0.98843931],\n",
              "       [0.76      , 0.24      ],\n",
              "       [0.76      , 0.24      ],\n",
              "       [0.1875    , 0.8125    ],\n",
              "       [0.01156069, 0.98843931],\n",
              "       [1.        , 0.        ],\n",
              "       [0.01156069, 0.98843931],\n",
              "       [0.76      , 0.24      ],\n",
              "       [1.        , 0.        ],\n",
              "       [0.76      , 0.24      ],\n",
              "       [1.        , 0.        ],\n",
              "       [0.76      , 0.24      ],\n",
              "       [0.76      , 0.24      ],\n",
              "       [1.        , 0.        ],\n",
              "       [1.        , 0.        ],\n",
              "       [0.01156069, 0.98843931],\n",
              "       [0.01156069, 0.98843931],\n",
              "       [0.01156069, 0.98843931],\n",
              "       [0.01156069, 0.98843931],\n",
              "       [0.01156069, 0.98843931],\n",
              "       [1.        , 0.        ],\n",
              "       [0.2173913 , 0.7826087 ],\n",
              "       [0.01156069, 0.98843931],\n",
              "       [0.76      , 0.24      ],\n",
              "       [1.        , 0.        ],\n",
              "       [0.2173913 , 0.7826087 ],\n",
              "       [1.        , 0.        ],\n",
              "       [0.01156069, 0.98843931],\n",
              "       [0.2173913 , 0.7826087 ],\n",
              "       [0.01156069, 0.98843931],\n",
              "       [1.        , 0.        ],\n",
              "       [0.1875    , 0.8125    ],\n",
              "       [1.        , 0.        ],\n",
              "       [0.01156069, 0.98843931],\n",
              "       [0.01156069, 0.98843931],\n",
              "       [0.33333333, 0.66666667],\n",
              "       [0.01156069, 0.98843931],\n",
              "       [1.        , 0.        ],\n",
              "       [0.2173913 , 0.7826087 ],\n",
              "       [0.01156069, 0.98843931],\n",
              "       [0.01156069, 0.98843931],\n",
              "       [1.        , 0.        ],\n",
              "       [0.01156069, 0.98843931],\n",
              "       [1.        , 0.        ],\n",
              "       [0.01156069, 0.98843931],\n",
              "       [1.        , 0.        ],\n",
              "       [0.1875    , 0.8125    ],\n",
              "       [0.01156069, 0.98843931],\n",
              "       [1.        , 0.        ],\n",
              "       [0.2173913 , 0.7826087 ],\n",
              "       [0.01156069, 0.98843931],\n",
              "       [0.1875    , 0.8125    ],\n",
              "       [0.2173913 , 0.7826087 ],\n",
              "       [0.2173913 , 0.7826087 ],\n",
              "       [1.        , 0.        ],\n",
              "       [0.01156069, 0.98843931],\n",
              "       [0.01156069, 0.98843931],\n",
              "       [0.01156069, 0.98843931],\n",
              "       [0.01156069, 0.98843931],\n",
              "       [0.01156069, 0.98843931],\n",
              "       [0.2173913 , 0.7826087 ],\n",
              "       [0.1875    , 0.8125    ],\n",
              "       [1.        , 0.        ],\n",
              "       [0.01156069, 0.98843931],\n",
              "       [0.2173913 , 0.7826087 ],\n",
              "       [0.1875    , 0.8125    ],\n",
              "       [1.        , 0.        ],\n",
              "       [0.2173913 , 0.7826087 ],\n",
              "       [0.01156069, 0.98843931],\n",
              "       [0.01156069, 0.98843931],\n",
              "       [0.01156069, 0.98843931],\n",
              "       [0.01156069, 0.98843931],\n",
              "       [0.2173913 , 0.7826087 ],\n",
              "       [0.01156069, 0.98843931],\n",
              "       [1.        , 0.        ],\n",
              "       [0.01156069, 0.98843931],\n",
              "       [0.2173913 , 0.7826087 ],\n",
              "       [0.76      , 0.24      ],\n",
              "       [0.76      , 0.24      ],\n",
              "       [0.1875    , 0.8125    ],\n",
              "       [0.01156069, 0.98843931],\n",
              "       [0.01156069, 0.98843931],\n",
              "       [0.01156069, 0.98843931],\n",
              "       [1.        , 0.        ],\n",
              "       [1.        , 0.        ],\n",
              "       [0.76      , 0.24      ],\n",
              "       [0.01156069, 0.98843931],\n",
              "       [0.2173913 , 0.7826087 ],\n",
              "       [0.01156069, 0.98843931],\n",
              "       [0.01156069, 0.98843931]])"
            ]
          },
          "metadata": {},
          "execution_count": 68
        }
      ]
    },
    {
      "cell_type": "code",
      "source": [
        "from sklearn.metrics import accuracy_score, confusion_matrix\n",
        "\n",
        "print('Accuracy score =', accuracy_score(Y_test, Y_pred))\n",
        "\n",
        "print('Confusion Matrix:')\n",
        "confusion_matrix(Y_test, Y_pred, labels = [0, 1])"
      ],
      "metadata": {
        "colab": {
          "base_uri": "https://localhost:8080/"
        },
        "id": "mZjl1uKtgmZI",
        "outputId": "0cce1d51-edd3-4c39-9238-f8b861f9fb8f"
      },
      "execution_count": null,
      "outputs": [
        {
          "output_type": "stream",
          "name": "stdout",
          "text": [
            "Accuracy score = 0.9005847953216374\n",
            "Confusion Matrix:\n"
          ]
        },
        {
          "output_type": "execute_result",
          "data": {
            "text/plain": [
              "array([[ 53,   8],\n",
              "       [  9, 101]])"
            ]
          },
          "metadata": {},
          "execution_count": 69
        }
      ]
    },
    {
      "cell_type": "code",
      "source": [
        "from sklearn.metrics import classification_report\n",
        "\n",
        "print(classification_report(Y_test, Y_pred))"
      ],
      "metadata": {
        "colab": {
          "base_uri": "https://localhost:8080/"
        },
        "id": "qx6MlTiGhUHI",
        "outputId": "87229c37-fdd1-4b19-b7e8-ef84cd022000"
      },
      "execution_count": null,
      "outputs": [
        {
          "output_type": "stream",
          "name": "stdout",
          "text": [
            "              precision    recall  f1-score   support\n",
            "\n",
            "           0       0.85      0.87      0.86        61\n",
            "           1       0.93      0.92      0.92       110\n",
            "\n",
            "    accuracy                           0.90       171\n",
            "   macro avg       0.89      0.89      0.89       171\n",
            "weighted avg       0.90      0.90      0.90       171\n",
            "\n"
          ]
        }
      ]
    },
    {
      "cell_type": "code",
      "source": [
        "features = X.columns\n",
        "features"
      ],
      "metadata": {
        "colab": {
          "base_uri": "https://localhost:8080/"
        },
        "id": "XHcM1qfOirDT",
        "outputId": "5b6ad99f-7699-4e6a-ca23-afb226ef91cc"
      },
      "execution_count": null,
      "outputs": [
        {
          "output_type": "execute_result",
          "data": {
            "text/plain": [
              "Index(['mean_radius', 'mean_texture', 'mean_perimeter', 'mean_area',\n",
              "       'mean_smoothness'],\n",
              "      dtype='object')"
            ]
          },
          "metadata": {},
          "execution_count": 71
        }
      ]
    },
    {
      "cell_type": "code",
      "source": [
        "clf.feature_importances_"
      ],
      "metadata": {
        "colab": {
          "base_uri": "https://localhost:8080/"
        },
        "id": "USEdYgDhi13M",
        "outputId": "585284a0-09ae-4d83-acba-427d3eac2fc8"
      },
      "execution_count": null,
      "outputs": [
        {
          "output_type": "execute_result",
          "data": {
            "text/plain": [
              "array([0.        , 0.0536462 , 0.82999029, 0.        , 0.11636351])"
            ]
          },
          "metadata": {},
          "execution_count": 72
        }
      ]
    },
    {
      "cell_type": "code",
      "source": [
        "f_imp_df = pd.DataFrame(data = {'Features': features, 'Feature Importance': clf.feature_importances_})\n",
        "f_imp_df.sort_values(by = 'Feature Importance', ascending = False, inplace = True)\n",
        "f_imp_df"
      ],
      "metadata": {
        "colab": {
          "base_uri": "https://localhost:8080/",
          "height": 206
        },
        "id": "ADHoW-oei9Kf",
        "outputId": "f0a0da73-b732-46f9-8a6d-dd7b41b38fc2"
      },
      "execution_count": null,
      "outputs": [
        {
          "output_type": "execute_result",
          "data": {
            "text/plain": [
              "          Features  Feature Importance\n",
              "2   mean_perimeter            0.829990\n",
              "4  mean_smoothness            0.116364\n",
              "1     mean_texture            0.053646\n",
              "0      mean_radius            0.000000\n",
              "3        mean_area            0.000000"
            ],
            "text/html": [
              "\n",
              "  <div id=\"df-25e4acc8-b76d-422d-af81-d77b701fb30e\">\n",
              "    <div class=\"colab-df-container\">\n",
              "      <div>\n",
              "<style scoped>\n",
              "    .dataframe tbody tr th:only-of-type {\n",
              "        vertical-align: middle;\n",
              "    }\n",
              "\n",
              "    .dataframe tbody tr th {\n",
              "        vertical-align: top;\n",
              "    }\n",
              "\n",
              "    .dataframe thead th {\n",
              "        text-align: right;\n",
              "    }\n",
              "</style>\n",
              "<table border=\"1\" class=\"dataframe\">\n",
              "  <thead>\n",
              "    <tr style=\"text-align: right;\">\n",
              "      <th></th>\n",
              "      <th>Features</th>\n",
              "      <th>Feature Importance</th>\n",
              "    </tr>\n",
              "  </thead>\n",
              "  <tbody>\n",
              "    <tr>\n",
              "      <th>2</th>\n",
              "      <td>mean_perimeter</td>\n",
              "      <td>0.829990</td>\n",
              "    </tr>\n",
              "    <tr>\n",
              "      <th>4</th>\n",
              "      <td>mean_smoothness</td>\n",
              "      <td>0.116364</td>\n",
              "    </tr>\n",
              "    <tr>\n",
              "      <th>1</th>\n",
              "      <td>mean_texture</td>\n",
              "      <td>0.053646</td>\n",
              "    </tr>\n",
              "    <tr>\n",
              "      <th>0</th>\n",
              "      <td>mean_radius</td>\n",
              "      <td>0.000000</td>\n",
              "    </tr>\n",
              "    <tr>\n",
              "      <th>3</th>\n",
              "      <td>mean_area</td>\n",
              "      <td>0.000000</td>\n",
              "    </tr>\n",
              "  </tbody>\n",
              "</table>\n",
              "</div>\n",
              "      <button class=\"colab-df-convert\" onclick=\"convertToInteractive('df-25e4acc8-b76d-422d-af81-d77b701fb30e')\"\n",
              "              title=\"Convert this dataframe to an interactive table.\"\n",
              "              style=\"display:none;\">\n",
              "        \n",
              "  <svg xmlns=\"http://www.w3.org/2000/svg\" height=\"24px\"viewBox=\"0 0 24 24\"\n",
              "       width=\"24px\">\n",
              "    <path d=\"M0 0h24v24H0V0z\" fill=\"none\"/>\n",
              "    <path d=\"M18.56 5.44l.94 2.06.94-2.06 2.06-.94-2.06-.94-.94-2.06-.94 2.06-2.06.94zm-11 1L8.5 8.5l.94-2.06 2.06-.94-2.06-.94L8.5 2.5l-.94 2.06-2.06.94zm10 10l.94 2.06.94-2.06 2.06-.94-2.06-.94-.94-2.06-.94 2.06-2.06.94z\"/><path d=\"M17.41 7.96l-1.37-1.37c-.4-.4-.92-.59-1.43-.59-.52 0-1.04.2-1.43.59L10.3 9.45l-7.72 7.72c-.78.78-.78 2.05 0 2.83L4 21.41c.39.39.9.59 1.41.59.51 0 1.02-.2 1.41-.59l7.78-7.78 2.81-2.81c.8-.78.8-2.07 0-2.86zM5.41 20L4 18.59l7.72-7.72 1.47 1.35L5.41 20z\"/>\n",
              "  </svg>\n",
              "      </button>\n",
              "      \n",
              "  <style>\n",
              "    .colab-df-container {\n",
              "      display:flex;\n",
              "      flex-wrap:wrap;\n",
              "      gap: 12px;\n",
              "    }\n",
              "\n",
              "    .colab-df-convert {\n",
              "      background-color: #E8F0FE;\n",
              "      border: none;\n",
              "      border-radius: 50%;\n",
              "      cursor: pointer;\n",
              "      display: none;\n",
              "      fill: #1967D2;\n",
              "      height: 32px;\n",
              "      padding: 0 0 0 0;\n",
              "      width: 32px;\n",
              "    }\n",
              "\n",
              "    .colab-df-convert:hover {\n",
              "      background-color: #E2EBFA;\n",
              "      box-shadow: 0px 1px 2px rgba(60, 64, 67, 0.3), 0px 1px 3px 1px rgba(60, 64, 67, 0.15);\n",
              "      fill: #174EA6;\n",
              "    }\n",
              "\n",
              "    [theme=dark] .colab-df-convert {\n",
              "      background-color: #3B4455;\n",
              "      fill: #D2E3FC;\n",
              "    }\n",
              "\n",
              "    [theme=dark] .colab-df-convert:hover {\n",
              "      background-color: #434B5C;\n",
              "      box-shadow: 0px 1px 3px 1px rgba(0, 0, 0, 0.15);\n",
              "      filter: drop-shadow(0px 1px 2px rgba(0, 0, 0, 0.3));\n",
              "      fill: #FFFFFF;\n",
              "    }\n",
              "  </style>\n",
              "\n",
              "      <script>\n",
              "        const buttonEl =\n",
              "          document.querySelector('#df-25e4acc8-b76d-422d-af81-d77b701fb30e button.colab-df-convert');\n",
              "        buttonEl.style.display =\n",
              "          google.colab.kernel.accessAllowed ? 'block' : 'none';\n",
              "\n",
              "        async function convertToInteractive(key) {\n",
              "          const element = document.querySelector('#df-25e4acc8-b76d-422d-af81-d77b701fb30e');\n",
              "          const dataTable =\n",
              "            await google.colab.kernel.invokeFunction('convertToInteractive',\n",
              "                                                     [key], {});\n",
              "          if (!dataTable) return;\n",
              "\n",
              "          const docLinkHtml = 'Like what you see? Visit the ' +\n",
              "            '<a target=\"_blank\" href=https://colab.research.google.com/notebooks/data_table.ipynb>data table notebook</a>'\n",
              "            + ' to learn more about interactive tables.';\n",
              "          element.innerHTML = '';\n",
              "          dataTable['output_type'] = 'display_data';\n",
              "          await google.colab.output.renderOutput(dataTable, element);\n",
              "          const docLink = document.createElement('div');\n",
              "          docLink.innerHTML = docLinkHtml;\n",
              "          element.appendChild(docLink);\n",
              "        }\n",
              "      </script>\n",
              "    </div>\n",
              "  </div>\n",
              "  "
            ]
          },
          "metadata": {},
          "execution_count": 73
        }
      ]
    },
    {
      "cell_type": "code",
      "source": [
        "f_imp_df.plot(x = 'Features', y = 'Feature Importance', kind = 'bar')"
      ],
      "metadata": {
        "colab": {
          "base_uri": "https://localhost:8080/",
          "height": 381
        },
        "id": "WoYwDOiHj4Ad",
        "outputId": "f1fd2647-bfbc-4a1f-a858-ffda6a0b5ddb"
      },
      "execution_count": null,
      "outputs": [
        {
          "output_type": "execute_result",
          "data": {
            "text/plain": [
              "<Axes: xlabel='Features'>"
            ]
          },
          "metadata": {},
          "execution_count": 74
        },
        {
          "output_type": "display_data",
          "data": {
            "text/plain": [
              "<Figure size 432x288 with 1 Axes>"
            ],
            "image/png": "[encoded data removed]"
          },
          "metadata": {
            "needs_background": "light"
          }
        }
      ]
    },
    {
      "cell_type": "code",
      "source": [
        "from sklearn import tree\n",
        "from matplotlib import pyplot as plt\n",
        "\n",
        "fig = plt.figure(figsize = (15, 15))\n",
        "_ = tree.plot_tree(clf, feature_names = features, filled = True)"
      ],
      "metadata": {
        "colab": {
          "base_uri": "https://localhost:8080/",
          "height": 846
        },
        "id": "r0C1e_MQk2tv",
        "outputId": "8ecf7265-a847-45c7-cc0e-1189b5782f22"
      },
      "execution_count": null,
      "outputs": [
        {
          "output_type": "display_data",
          "data": {
            "text/plain": [
              "<Figure size 1080x1080 with 1 Axes>"
            ],
            "image/png": "[encoded data removed]"
          },
          "metadata": {
            "needs_background": "light"
          }
        }
      ]
    },
    {
      "cell_type": "markdown",
      "source": [
        "Prepruning"
      ],
      "metadata": {
        "id": "Ic2YiIVsoVg4"
      }
    },
    {
      "cell_type": "code",
      "source": [
        "clf = DecisionTreeClassifier(max_depth = 3, ccp_alpha = 0.02)\n",
        "clf.fit(X_train, Y_train)"
      ],
      "metadata": {
        "colab": {
          "base_uri": "https://localhost:8080/",
          "height": 74
        },
        "id": "u8qWtIm0m_sg",
        "outputId": "8ebb95af-19e0-440b-ff46-2c5b1b97b22a"
      },
      "execution_count": null,
      "outputs": [
        {
          "output_type": "execute_result",
          "data": {
            "text/plain": [
              "DecisionTreeClassifier(ccp_alpha=0.02, max_depth=3)"
            ],
            "text/html": [
              "<style>#sk-container-id-8 {color: black;background-color: white;}#sk-container-id-8 pre{padding: 0;}#sk-container-id-8 div.sk-toggleable {background-color: white;}#sk-container-id-8 label.sk-toggleable__label {cursor: pointer;display: block;width: 100%;margin-bottom: 0;padding: 0.3em;box-sizing: border-box;text-align: center;}#sk-container-id-8 label.sk-toggleable__label-arrow:before {content: \"▸\";float: left;margin-right: 0.25em;color: #696969;}#sk-container-id-8 label.sk-toggleable__label-arrow:hover:before {color: black;}#sk-container-id-8 div.sk-estimator:hover label.sk-toggleable__label-arrow:before {color: black;}#sk-container-id-8 div.sk-toggleable__content {max-height: 0;max-width: 0;overflow: hidden;text-align: left;background-color: #f0f8ff;}#sk-container-id-8 div.sk-toggleable__content pre {margin: 0.2em;color: black;border-radius: 0.25em;background-color: #f0f8ff;}#sk-container-id-8 input.sk-toggleable__control:checked~div.sk-toggleable__content {max-height: 200px;max-width: 100%;overflow: auto;}#sk-container-id-8 input.sk-toggleable__control:checked~label.sk-toggleable__label-arrow:before {content: \"▾\";}#sk-container-id-8 div.sk-estimator input.sk-toggleable__control:checked~label.sk-toggleable__label {background-color: #d4ebff;}#sk-container-id-8 div.sk-label input.sk-toggleable__control:checked~label.sk-toggleable__label {background-color: #d4ebff;}#sk-container-id-8 input.sk-hidden--visually {border: 0;clip: rect(1px 1px 1px 1px);clip: rect(1px, 1px, 1px, 1px);height: 1px;margin: -1px;overflow: hidden;padding: 0;position: absolute;width: 1px;}#sk-container-id-8 div.sk-estimator {font-family: monospace;background-color: #f0f8ff;border: 1px dotted black;border-radius: 0.25em;box-sizing: border-box;margin-bottom: 0.5em;}#sk-container-id-8 div.sk-estimator:hover {background-color: #d4ebff;}#sk-container-id-8 div.sk-parallel-item::after {content: \"\";width: 100%;border-bottom: 1px solid gray;flex-grow: 1;}#sk-container-id-8 div.sk-label:hover label.sk-toggleable__label {background-color: #d4ebff;}#sk-container-id-8 div.sk-serial::before {content: \"\";position: absolute;border-left: 1px solid gray;box-sizing: border-box;top: 0;bottom: 0;left: 50%;z-index: 0;}#sk-container-id-8 div.sk-serial {display: flex;flex-direction: column;align-items: center;background-color: white;padding-right: 0.2em;padding-left: 0.2em;position: relative;}#sk-container-id-8 div.sk-item {position: relative;z-index: 1;}#sk-container-id-8 div.sk-parallel {display: flex;align-items: stretch;justify-content: center;background-color: white;position: relative;}#sk-container-id-8 div.sk-item::before, #sk-container-id-8 div.sk-parallel-item::before {content: \"\";position: absolute;border-left: 1px solid gray;box-sizing: border-box;top: 0;bottom: 0;left: 50%;z-index: -1;}#sk-container-id-8 div.sk-parallel-item {display: flex;flex-direction: column;z-index: 1;position: relative;background-color: white;}#sk-container-id-8 div.sk-parallel-item:first-child::after {align-self: flex-end;width: 50%;}#sk-container-id-8 div.sk-parallel-item:last-child::after {align-self: flex-start;width: 50%;}#sk-container-id-8 div.sk-parallel-item:only-child::after {width: 0;}#sk-container-id-8 div.sk-dashed-wrapped {border: 1px dashed gray;margin: 0 0.4em 0.5em 0.4em;box-sizing: border-box;padding-bottom: 0.4em;background-color: white;}#sk-container-id-8 div.sk-label label {font-family: monospace;font-weight: bold;display: inline-block;line-height: 1.2em;}#sk-container-id-8 div.sk-label-container {text-align: center;}#sk-container-id-8 div.sk-container {/* jupyter's `normalize.less` sets `[hidden] { display: none; }` but bootstrap.min.css set `[hidden] { display: none !important; }` so we also need the `!important` here to be able to override the default hidden behavior on the sphinx rendered scikit-learn.org. See: https://github.com/scikit-learn/scikit-learn/issues/21755 */display: inline-block !important;position: relative;}#sk-container-id-8 div.sk-text-repr-fallback {display: none;}</style><div id=\"sk-container-id-8\" class=\"sk-top-container\"><div class=\"sk-text-repr-fallback\"><pre>DecisionTreeClassifier(ccp_alpha=0.02, max_depth=3)</pre><b>In a Jupyter environment, please rerun this cell to show the HTML representation or trust the notebook. <br />On GitHub, the HTML representation is unable to render, please try loading this page with nbviewer.org.</b></div><div class=\"sk-container\" hidden><div class=\"sk-item\"><div class=\"sk-estimator sk-toggleable\"><input class=\"sk-toggleable__control sk-hidden--visually\" id=\"sk-estimator-id-8\" type=\"checkbox\" checked><label for=\"sk-estimator-id-8\" class=\"sk-toggleable__label sk-toggleable__label-arrow\">DecisionTreeClassifier</label><div class=\"sk-toggleable__content\"><pre>DecisionTreeClassifier(ccp_alpha=0.02, max_depth=3)</pre></div></div></div></div></div>"
            ]
          },
          "metadata": {},
          "execution_count": 76
        }
      ]
    },
    {
      "cell_type": "code",
      "source": [
        "clf.get_params()"
      ],
      "metadata": {
        "colab": {
          "base_uri": "https://localhost:8080/"
        },
        "id": "UKWihdHNnTgX",
        "outputId": "2fea4deb-cbfb-4142-e483-d86758a5a10c"
      },
      "execution_count": null,
      "outputs": [
        {
          "output_type": "execute_result",
          "data": {
            "text/plain": [
              "{'ccp_alpha': 0.02,\n",
              " 'class_weight': None,\n",
              " 'criterion': 'gini',\n",
              " 'max_depth': 3,\n",
              " 'max_features': None,\n",
              " 'max_leaf_nodes': None,\n",
              " 'min_impurity_decrease': 0.0,\n",
              " 'min_samples_leaf': 1,\n",
              " 'min_samples_split': 2,\n",
              " 'min_weight_fraction_leaf': 0.0,\n",
              " 'random_state': None,\n",
              " 'splitter': 'best'}"
            ]
          },
          "metadata": {},
          "execution_count": 77
        }
      ]
    },
    {
      "cell_type": "code",
      "source": [
        "Y_pred = clf.predict(X_test)\n",
        "Y_pred"
      ],
      "metadata": {
        "colab": {
          "base_uri": "https://localhost:8080/"
        },
        "id": "PfijFf5vnUop",
        "outputId": "1263bdf5-da31-4583-c66b-84dce9799cde"
      },
      "execution_count": null,
      "outputs": [
        {
          "output_type": "execute_result",
          "data": {
            "text/plain": [
              "array([0, 1, 0, 1, 1, 0, 1, 1, 0, 1, 1, 1, 0, 1, 1, 1, 1, 1, 1, 1, 0, 1,\n",
              "       1, 1, 1, 1, 1, 0, 0, 0, 0, 0, 0, 0, 1, 1, 0, 1, 1, 0, 1, 1, 1, 0,\n",
              "       1, 1, 0, 0, 1, 0, 1, 1, 1, 1, 1, 0, 0, 0, 1, 0, 0, 0, 1, 1, 1, 1,\n",
              "       1, 1, 1, 0, 1, 0, 1, 1, 1, 1, 1, 1, 0, 0, 0, 1, 0, 0, 1, 1, 0, 1,\n",
              "       0, 0, 0, 0, 0, 0, 0, 0, 1, 1, 1, 1, 1, 0, 1, 1, 0, 0, 1, 0, 1, 1,\n",
              "       1, 0, 1, 0, 1, 1, 0, 1, 0, 1, 1, 1, 0, 1, 0, 1, 0, 1, 1, 0, 1, 1,\n",
              "       1, 1, 1, 0, 1, 1, 1, 1, 1, 1, 1, 0, 1, 1, 1, 0, 1, 1, 1, 1, 1, 1,\n",
              "       1, 0, 1, 1, 0, 0, 1, 1, 1, 1, 0, 0, 0, 1, 1, 1, 1])"
            ]
          },
          "metadata": {},
          "execution_count": 78
        }
      ]
    },
    {
      "cell_type": "code",
      "source": [
        "clf.predict_proba(X_test)"
      ],
      "metadata": {
        "colab": {
          "base_uri": "https://localhost:8080/"
        },
        "id": "l31g_tP2nZZT",
        "outputId": "82f60e01-1a93-4b60-d4b9-ccc450d724c4"
      },
      "execution_count": null,
      "outputs": [
        {
          "output_type": "execute_result",
          "data": {
            "text/plain": [
              "array([[0.76      , 0.24      ],\n",
              "       [0.07725322, 0.92274678],\n",
              "       [0.76      , 0.24      ],\n",
              "       [0.07725322, 0.92274678],\n",
              "       [0.07725322, 0.92274678],\n",
              "       [0.97826087, 0.02173913],\n",
              "       [0.07725322, 0.92274678],\n",
              "       [0.07725322, 0.92274678],\n",
              "       [0.76      , 0.24      ],\n",
              "       [0.07725322, 0.92274678],\n",
              "       [0.07725322, 0.92274678],\n",
              "       [0.07725322, 0.92274678],\n",
              "       [0.97826087, 0.02173913],\n",
              "       [0.07725322, 0.92274678],\n",
              "       [0.2173913 , 0.7826087 ],\n",
              "       [0.07725322, 0.92274678],\n",
              "       [0.07725322, 0.92274678],\n",
              "       [0.07725322, 0.92274678],\n",
              "       [0.07725322, 0.92274678],\n",
              "       [0.07725322, 0.92274678],\n",
              "       [0.97826087, 0.02173913],\n",
              "       [0.07725322, 0.92274678],\n",
              "       [0.07725322, 0.92274678],\n",
              "       [0.07725322, 0.92274678],\n",
              "       [0.07725322, 0.92274678],\n",
              "       [0.07725322, 0.92274678],\n",
              "       [0.07725322, 0.92274678],\n",
              "       [0.97826087, 0.02173913],\n",
              "       [0.76      , 0.24      ],\n",
              "       [0.97826087, 0.02173913],\n",
              "       [0.97826087, 0.02173913],\n",
              "       [0.97826087, 0.02173913],\n",
              "       [0.76      , 0.24      ],\n",
              "       [0.97826087, 0.02173913],\n",
              "       [0.07725322, 0.92274678],\n",
              "       [0.07725322, 0.92274678],\n",
              "       [0.97826087, 0.02173913],\n",
              "       [0.07725322, 0.92274678],\n",
              "       [0.2173913 , 0.7826087 ],\n",
              "       [0.97826087, 0.02173913],\n",
              "       [0.07725322, 0.92274678],\n",
              "       [0.07725322, 0.92274678],\n",
              "       [0.07725322, 0.92274678],\n",
              "       [0.97826087, 0.02173913],\n",
              "       [0.07725322, 0.92274678],\n",
              "       [0.07725322, 0.92274678],\n",
              "       [0.76      , 0.24      ],\n",
              "       [0.97826087, 0.02173913],\n",
              "       [0.07725322, 0.92274678],\n",
              "       [0.97826087, 0.02173913],\n",
              "       [0.2173913 , 0.7826087 ],\n",
              "       [0.07725322, 0.92274678],\n",
              "       [0.07725322, 0.92274678],\n",
              "       [0.07725322, 0.92274678],\n",
              "       [0.07725322, 0.92274678],\n",
              "       [0.97826087, 0.02173913],\n",
              "       [0.76      , 0.24      ],\n",
              "       [0.76      , 0.24      ],\n",
              "       [0.07725322, 0.92274678],\n",
              "       [0.76      , 0.24      ],\n",
              "       [0.97826087, 0.02173913],\n",
              "       [0.76      , 0.24      ],\n",
              "       [0.07725322, 0.92274678],\n",
              "       [0.07725322, 0.92274678],\n",
              "       [0.07725322, 0.92274678],\n",
              "       [0.2173913 , 0.7826087 ],\n",
              "       [0.07725322, 0.92274678],\n",
              "       [0.07725322, 0.92274678],\n",
              "       [0.07725322, 0.92274678],\n",
              "       [0.97826087, 0.02173913],\n",
              "       [0.07725322, 0.92274678],\n",
              "       [0.97826087, 0.02173913],\n",
              "       [0.07725322, 0.92274678],\n",
              "       [0.07725322, 0.92274678],\n",
              "       [0.07725322, 0.92274678],\n",
              "       [0.07725322, 0.92274678],\n",
              "       [0.07725322, 0.92274678],\n",
              "       [0.07725322, 0.92274678],\n",
              "       [0.97826087, 0.02173913],\n",
              "       [0.97826087, 0.02173913],\n",
              "       [0.97826087, 0.02173913],\n",
              "       [0.07725322, 0.92274678],\n",
              "       [0.76      , 0.24      ],\n",
              "       [0.76      , 0.24      ],\n",
              "       [0.07725322, 0.92274678],\n",
              "       [0.07725322, 0.92274678],\n",
              "       [0.97826087, 0.02173913],\n",
              "       [0.07725322, 0.92274678],\n",
              "       [0.76      , 0.24      ],\n",
              "       [0.97826087, 0.02173913],\n",
              "       [0.76      , 0.24      ],\n",
              "       [0.97826087, 0.02173913],\n",
              "       [0.76      , 0.24      ],\n",
              "       [0.76      , 0.24      ],\n",
              "       [0.97826087, 0.02173913],\n",
              "       [0.97826087, 0.02173913],\n",
              "       [0.07725322, 0.92274678],\n",
              "       [0.07725322, 0.92274678],\n",
              "       [0.07725322, 0.92274678],\n",
              "       [0.07725322, 0.92274678],\n",
              "       [0.07725322, 0.92274678],\n",
              "       [0.97826087, 0.02173913],\n",
              "       [0.07725322, 0.92274678],\n",
              "       [0.07725322, 0.92274678],\n",
              "       [0.76      , 0.24      ],\n",
              "       [0.97826087, 0.02173913],\n",
              "       [0.07725322, 0.92274678],\n",
              "       [0.97826087, 0.02173913],\n",
              "       [0.07725322, 0.92274678],\n",
              "       [0.2173913 , 0.7826087 ],\n",
              "       [0.07725322, 0.92274678],\n",
              "       [0.97826087, 0.02173913],\n",
              "       [0.07725322, 0.92274678],\n",
              "       [0.97826087, 0.02173913],\n",
              "       [0.07725322, 0.92274678],\n",
              "       [0.07725322, 0.92274678],\n",
              "       [0.97826087, 0.02173913],\n",
              "       [0.07725322, 0.92274678],\n",
              "       [0.97826087, 0.02173913],\n",
              "       [0.07725322, 0.92274678],\n",
              "       [0.07725322, 0.92274678],\n",
              "       [0.07725322, 0.92274678],\n",
              "       [0.97826087, 0.02173913],\n",
              "       [0.07725322, 0.92274678],\n",
              "       [0.97826087, 0.02173913],\n",
              "       [0.07725322, 0.92274678],\n",
              "       [0.97826087, 0.02173913],\n",
              "       [0.07725322, 0.92274678],\n",
              "       [0.07725322, 0.92274678],\n",
              "       [0.97826087, 0.02173913],\n",
              "       [0.07725322, 0.92274678],\n",
              "       [0.07725322, 0.92274678],\n",
              "       [0.07725322, 0.92274678],\n",
              "       [0.07725322, 0.92274678],\n",
              "       [0.07725322, 0.92274678],\n",
              "       [0.97826087, 0.02173913],\n",
              "       [0.07725322, 0.92274678],\n",
              "       [0.07725322, 0.92274678],\n",
              "       [0.07725322, 0.92274678],\n",
              "       [0.07725322, 0.92274678],\n",
              "       [0.07725322, 0.92274678],\n",
              "       [0.2173913 , 0.7826087 ],\n",
              "       [0.07725322, 0.92274678],\n",
              "       [0.97826087, 0.02173913],\n",
              "       [0.07725322, 0.92274678],\n",
              "       [0.07725322, 0.92274678],\n",
              "       [0.07725322, 0.92274678],\n",
              "       [0.97826087, 0.02173913],\n",
              "       [0.07725322, 0.92274678],\n",
              "       [0.07725322, 0.92274678],\n",
              "       [0.07725322, 0.92274678],\n",
              "       [0.07725322, 0.92274678],\n",
              "       [0.07725322, 0.92274678],\n",
              "       [0.07725322, 0.92274678],\n",
              "       [0.07725322, 0.92274678],\n",
              "       [0.97826087, 0.02173913],\n",
              "       [0.07725322, 0.92274678],\n",
              "       [0.07725322, 0.92274678],\n",
              "       [0.76      , 0.24      ],\n",
              "       [0.76      , 0.24      ],\n",
              "       [0.07725322, 0.92274678],\n",
              "       [0.07725322, 0.92274678],\n",
              "       [0.07725322, 0.92274678],\n",
              "       [0.07725322, 0.92274678],\n",
              "       [0.97826087, 0.02173913],\n",
              "       [0.97826087, 0.02173913],\n",
              "       [0.76      , 0.24      ],\n",
              "       [0.07725322, 0.92274678],\n",
              "       [0.2173913 , 0.7826087 ],\n",
              "       [0.07725322, 0.92274678],\n",
              "       [0.07725322, 0.92274678]])"
            ]
          },
          "metadata": {},
          "execution_count": 79
        }
      ]
    },
    {
      "cell_type": "code",
      "source": [
        "print('New Accuracy score =', accuracy_score(Y_test, Y_pred))\n",
        "\n",
        "print('New Confusion Matrix:')\n",
        "confusion_matrix(Y_test, Y_pred, labels = [0, 1])"
      ],
      "metadata": {
        "colab": {
          "base_uri": "https://localhost:8080/"
        },
        "id": "nr8GRMJnngGp",
        "outputId": "96456660-6c63-46f6-a553-577e0cc5d091"
      },
      "execution_count": null,
      "outputs": [
        {
          "output_type": "stream",
          "name": "stdout",
          "text": [
            "New Accuracy score = 0.9122807017543859\n",
            "New Confusion Matrix:\n"
          ]
        },
        {
          "output_type": "execute_result",
          "data": {
            "text/plain": [
              "array([[ 54,   7],\n",
              "       [  8, 102]])"
            ]
          },
          "metadata": {},
          "execution_count": 80
        }
      ]
    },
    {
      "cell_type": "code",
      "source": [
        "fig = plt.figure(figsize = (10, 10))\n",
        "_ = tree.plot_tree(clf, feature_names = features, filled = True)"
      ],
      "metadata": {
        "colab": {
          "base_uri": "https://localhost:8080/",
          "height": 575
        },
        "id": "EnoPRIkYoLGk",
        "outputId": "dc5ac6db-d2ab-47c9-8c6c-6249fa657a95"
      },
      "execution_count": null,
      "outputs": [
        {
          "output_type": "display_data",
          "data": {
            "text/plain": [
              "<Figure size 720x720 with 1 Axes>"
            ],
            "image/png": "[encoded data removed]"
          },
          "metadata": {
            "needs_background": "light"
          }
        }
      ]
    }
  ]
}